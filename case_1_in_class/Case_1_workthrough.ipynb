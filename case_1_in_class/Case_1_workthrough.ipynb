{
 "cells": [
  {
   "cell_type": "markdown",
   "id": "faa73af9-107e-4d07-9a6f-c4827c9522e9",
   "metadata": {},
   "source": [
    "**OM 421 Case 1 - Fall 2023**\n",
    "\n",
    "Assume that you have been hired as a group of consultants for a company that owns and operates a bike-sharing service in a large metropolitan area. The company has specific questions they want you to investigate and have provided you three months of trip data. Please answer the questions using `code` and `markdown` cells as needed.\n",
    "\n",
    "You may complete this assignment in groups of **up to** three. Please list the name and mybama username for each group member:\n",
    "- Member 1 (mybama username 1)\n",
    "- Member 2 (mybama username 2)\n",
    "- Member 3 (mybama username 3)\n",
    "\n",
    "The following code block imports libraries you may find useful."
   ]
  },
  {
   "cell_type": "code",
   "execution_count": 1,
   "id": "2faa1dda-9cb5-4c8b-be14-416404c55d00",
   "metadata": {
    "tags": []
   },
   "outputs": [],
   "source": [
    "import warnings\n",
    "warnings.simplefilter('ignore')\n",
    "\n",
    "import matplotlib.pyplot as plt\n",
    "import numpy as np\n",
    "import pandas as pd\n",
    "import scipy.stats as st\n",
    "import seaborn as sns\n",
    "\n",
    "pd.set_option('display.max_columns', None)"
   ]
  },
  {
   "cell_type": "markdown",
   "id": "f876dba7-7734-4293-92a7-bffda61d8076",
   "metadata": {},
   "source": [
    "The following code block loads the raw data and does some basic data preparation steps. **Note that the code assumes the data file is in the same directory as the notebook (please don't do something different).**"
   ]
  },
  {
   "cell_type": "code",
   "execution_count": 2,
   "id": "67196017-01f6-4cf3-8575-57a3938afe30",
   "metadata": {
    "tags": []
   },
   "outputs": [
    {
     "data": {
      "text/plain": [
       "(109436, 16)"
      ]
     },
     "execution_count": 2,
     "metadata": {},
     "output_type": "execute_result"
    }
   ],
   "source": [
    "data = pd.read_csv('bike_trip_data.csv')\n",
    "\n",
    "data = data.drop(\n",
    "    columns=[\n",
    "        'start_lat', \n",
    "        'start_lon', \n",
    "        'end_lat', \n",
    "        'end_lon',  \n",
    "        'plan_duration',\n",
    "    ],\n",
    ")\n",
    "\n",
    "data['start_time'] = pd.to_datetime(data['start_time'])\n",
    "data['start_date'] = pd.to_datetime(data['start_time'].dt.date)\n",
    "data['start_day'] = data['start_date'].dt.day_name()\n",
    "data['start_hour'] = data['start_time'].dt.hour\n",
    "\n",
    "data['end_time'] = pd.to_datetime(data['end_time'])\n",
    "data['end_date'] = pd.to_datetime(data['end_time'].dt.date)\n",
    "data['end_day'] = data['end_date'].dt.day_name()\n",
    "data['end_hour'] = data['end_time'].dt.hour\n",
    "\n",
    "data.shape"
   ]
  },
  {
   "cell_type": "markdown",
   "id": "2f3db9d2-f991-4f29-b4a8-28cabe8a5043",
   "metadata": {},
   "source": [
    "The first five rows of the data are shown below."
   ]
  },
  {
   "cell_type": "code",
   "execution_count": 3,
   "id": "0fc831f1-2a9d-4e21-a536-3dbf1f5f0fae",
   "metadata": {
    "tags": []
   },
   "outputs": [
    {
     "data": {
      "text/plain": [
       "Timestamp('2023-04-01 00:00:00')"
      ]
     },
     "execution_count": 3,
     "metadata": {},
     "output_type": "execute_result"
    }
   ],
   "source": [
    "data['start_date'].min()"
   ]
  },
  {
   "cell_type": "code",
   "execution_count": 4,
   "id": "b46fde01-7785-4626-83d1-cef5bb17ce28",
   "metadata": {},
   "outputs": [
    {
     "data": {
      "text/plain": [
       "Timestamp('2023-06-30 00:00:00')"
      ]
     },
     "execution_count": 4,
     "metadata": {},
     "output_type": "execute_result"
    }
   ],
   "source": [
    "data['start_date'].max()"
   ]
  },
  {
   "cell_type": "code",
   "execution_count": 5,
   "id": "2a4caaff-9f8a-4074-bd54-c3662327ee35",
   "metadata": {},
   "outputs": [
    {
     "data": {
      "text/html": [
       "<div>\n",
       "<style scoped>\n",
       "    .dataframe tbody tr th:only-of-type {\n",
       "        vertical-align: middle;\n",
       "    }\n",
       "\n",
       "    .dataframe tbody tr th {\n",
       "        vertical-align: top;\n",
       "    }\n",
       "\n",
       "    .dataframe thead th {\n",
       "        text-align: right;\n",
       "    }\n",
       "</style>\n",
       "<table border=\"1\" class=\"dataframe\">\n",
       "  <thead>\n",
       "    <tr style=\"text-align: right;\">\n",
       "      <th></th>\n",
       "      <th>unique_dates</th>\n",
       "    </tr>\n",
       "    <tr>\n",
       "      <th>start_day</th>\n",
       "      <th></th>\n",
       "    </tr>\n",
       "  </thead>\n",
       "  <tbody>\n",
       "    <tr>\n",
       "      <th>Friday</th>\n",
       "      <td>13</td>\n",
       "    </tr>\n",
       "    <tr>\n",
       "      <th>Monday</th>\n",
       "      <td>13</td>\n",
       "    </tr>\n",
       "    <tr>\n",
       "      <th>Saturday</th>\n",
       "      <td>13</td>\n",
       "    </tr>\n",
       "    <tr>\n",
       "      <th>Sunday</th>\n",
       "      <td>13</td>\n",
       "    </tr>\n",
       "    <tr>\n",
       "      <th>Thursday</th>\n",
       "      <td>13</td>\n",
       "    </tr>\n",
       "    <tr>\n",
       "      <th>Tuesday</th>\n",
       "      <td>13</td>\n",
       "    </tr>\n",
       "    <tr>\n",
       "      <th>Wednesday</th>\n",
       "      <td>13</td>\n",
       "    </tr>\n",
       "  </tbody>\n",
       "</table>\n",
       "</div>"
      ],
      "text/plain": [
       "           unique_dates\n",
       "start_day              \n",
       "Friday               13\n",
       "Monday               13\n",
       "Saturday             13\n",
       "Sunday               13\n",
       "Thursday             13\n",
       "Tuesday              13\n",
       "Wednesday            13"
      ]
     },
     "execution_count": 5,
     "metadata": {},
     "output_type": "execute_result"
    }
   ],
   "source": [
    "data.groupby('start_day').agg(\n",
    "    unique_dates=('start_date', 'nunique')\n",
    ")"
   ]
  },
  {
   "cell_type": "markdown",
   "id": "7166c3ac-e0b0-4c90-8734-79c6e7ec392a",
   "metadata": {},
   "source": [
    "**Q1:** Is there a statistically significant difference in the number of trips taken by day of week (Monday, Tuesday, etc.)? If there is, what pattern exists? Use appropriate analyses or visualizations to justify your answer. (**10 pts**)"
   ]
  },
  {
   "cell_type": "code",
   "execution_count": 6,
   "id": "6be8a43e-0c74-4be5-b0e7-8b1ebb0c421b",
   "metadata": {},
   "outputs": [
    {
     "data": {
      "image/png": "[encoded data removed]",
      "text/plain": [
       "<Figure size 600x300 with 1 Axes>"
      ]
     },
     "metadata": {},
     "output_type": "display_data"
    }
   ],
   "source": [
    "trips_by_day = data.groupby(\n",
    "    ['start_date', 'start_day']\n",
    ").agg(\n",
    "    unique_trips=('trip_id', 'nunique')\n",
    ").reset_index()\n",
    "\n",
    "fig, ax = plt.subplots(1, 1, figsize=(6, 3))\n",
    "\n",
    "sns.pointplot(\n",
    "    trips_by_day,\n",
    "    x='start_day',\n",
    "    y='unique_trips',\n",
    "    join=False,\n",
    ")\n",
    "\n",
    "plt.show()"
   ]
  },
  {
   "cell_type": "markdown",
   "id": "3ec16261-e512-4843-b993-fb6fbf0263c4",
   "metadata": {},
   "source": [
    "**Q2:** Is there a statistically significant difference in the number of trips taken by hour of day? If there is, what pattern exists? Use appropriate analyses or visualizations to justify your answer. (**10 pts**)"
   ]
  },
  {
   "cell_type": "code",
   "execution_count": 7,
   "id": "5f6286c9-fcf1-423b-9da4-eabe5de56b49",
   "metadata": {
    "tags": []
   },
   "outputs": [
    {
     "data": {
      "image/png": "[encoded data removed]",
      "text/plain": [
       "<Figure size 600x300 with 1 Axes>"
      ]
     },
     "metadata": {},
     "output_type": "display_data"
    }
   ],
   "source": [
    "trips_by_hour = data.groupby(\n",
    "    ['start_date', 'start_hour']\n",
    ").agg(\n",
    "    unique_trips=('trip_id', 'nunique')\n",
    ").reset_index()\n",
    "\n",
    "fig, ax = plt.subplots(1, 1, figsize=(6, 3))\n",
    "\n",
    "sns.pointplot(\n",
    "    trips_by_hour,\n",
    "    x='start_hour',\n",
    "    y='unique_trips',\n",
    "    join=False,\n",
    ")\n",
    "\n",
    "plt.show()"
   ]
  },
  {
   "cell_type": "markdown",
   "id": "402f45e1-e5a1-46ff-ae16-f7b730d85d9a",
   "metadata": {},
   "source": [
    "**Q3:** Fit a distribution for the number of trips that stat during the peak hour of the day. For this analysis, ignore day of week effects. Provide some justification for why you feel the fitted distribution is a good choice. (**20 pts**)"
   ]
  },
  {
   "cell_type": "code",
   "execution_count": 8,
   "id": "8e7678de-dfe1-4ced-aeba-5654fb7b2599",
   "metadata": {
    "tags": []
   },
   "outputs": [
    {
     "data": {
      "image/png": "[encoded data removed]",
      "text/plain": [
       "<Figure size 600x300 with 1 Axes>"
      ]
     },
     "metadata": {},
     "output_type": "display_data"
    }
   ],
   "source": [
    "hour_17_data = data[data['start_hour']==17]\n",
    "hour_17_trips = hour_17_data.groupby(\n",
    "    'start_date'\n",
    ").agg(\n",
    "    unique_trips=('trip_id', 'nunique')\n",
    ").reset_index()\n",
    "\n",
    "fig, ax = plt.subplots(1, 1, figsize=(6, 3))\n",
    "\n",
    "ax.hist(\n",
    "    hour_17_trips['unique_trips'],\n",
    "    bins=[50, 60, 70, 80, 90, 100, 110, 120, 130, 140, 150],\n",
    "    edgecolor='k',\n",
    ")\n",
    "\n",
    "plt.show()"
   ]
  },
  {
   "cell_type": "code",
   "execution_count": 9,
   "id": "0d97fa29-a368-40cc-8b27-86989f795c97",
   "metadata": {},
   "outputs": [
    {
     "data": {
      "image/png": "[encoded data removed]",
      "text/plain": [
       "<Figure size 600x300 with 1 Axes>"
      ]
     },
     "metadata": {},
     "output_type": "display_data"
    },
    {
     "name": "stdout",
     "output_type": "stream",
     "text": [
      "RSS =81\n"
     ]
    }
   ],
   "source": [
    "values_to_fit = hour_17_trips['unique_trips'].values\n",
    "\n",
    "current_dist = st.triang\n",
    "best_parameters = current_dist.fit(values_to_fit)\n",
    "best_dist = current_dist(*best_parameters)\n",
    "\n",
    "fig, ax = plt.subplots(1, 1, figsize=(6, 3))\n",
    "\n",
    "ax.hist(\n",
    "    hour_17_trips['unique_trips'],\n",
    "    bins=[50, 60, 70, 80, 90, 100, 110, 120, 130, 140, 150],\n",
    "    edgecolor='k',\n",
    "    alpha=0.5,\n",
    "    label='actual',\n",
    ")\n",
    "\n",
    "ax.hist(\n",
    "    best_dist.rvs(len(values_to_fit), random_state=42),\n",
    "    bins=[50, 60, 70, 80, 90, 100, 110, 120, 130, 140, 150],\n",
    "    edgecolor='k',\n",
    "    alpha=0.5,\n",
    "    label='fit',\n",
    ")\n",
    "ax.legend()\n",
    "plt.show()\n",
    "\n",
    "data_counts, data_bins = np.histogram(values_to_fit, bins=[50, 60, 70, 80, 90, 100, 110, 120, 130, 140, 150])\n",
    "\n",
    "random_data = best_dist.rvs(len(values_to_fit), random_state=42)\n",
    "random_counts, random_bins = np.histogram(random_data, bins=[50, 60, 70, 80, 90, 100, 110, 120, 130, 140, 150])\n",
    "RSS = np.sum((data_counts - random_counts)**2)\n",
    "\n",
    "print(f'{RSS =}')"
   ]
  },
  {
   "cell_type": "code",
   "execution_count": 10,
   "id": "296f653c-207c-41bc-919b-b37971614bfc",
   "metadata": {},
   "outputs": [
    {
     "data": {
      "image/png": "[encoded data removed]",
      "text/plain": [
       "<Figure size 600x300 with 1 Axes>"
      ]
     },
     "metadata": {},
     "output_type": "display_data"
    },
    {
     "name": "stdout",
     "output_type": "stream",
     "text": [
      "RSS =44\n"
     ]
    }
   ],
   "source": [
    "values_to_fit = hour_17_trips['unique_trips'].values\n",
    "\n",
    "current_dist = st.norm\n",
    "best_parameters = current_dist.fit(values_to_fit)\n",
    "best_dist = current_dist(*best_parameters)\n",
    "\n",
    "fig, ax = plt.subplots(1, 1, figsize=(6, 3))\n",
    "\n",
    "ax.hist(\n",
    "    hour_17_trips['unique_trips'],\n",
    "    bins=[50, 60, 70, 80, 90, 100, 110, 120, 130, 140, 150],\n",
    "    edgecolor='k',\n",
    "    alpha=0.5,\n",
    "    label='actual',\n",
    ")\n",
    "\n",
    "ax.hist(\n",
    "    best_dist.rvs(len(values_to_fit), random_state=42),\n",
    "    bins=[50, 60, 70, 80, 90, 100, 110, 120, 130, 140, 150],\n",
    "    edgecolor='k',\n",
    "    alpha=0.5,\n",
    "    label='fit',\n",
    ")\n",
    "ax.legend()\n",
    "plt.show()\n",
    "\n",
    "data_counts, data_bins = np.histogram(values_to_fit, bins=[50, 60, 70, 80, 90, 100, 110, 120, 130, 140, 150])\n",
    "\n",
    "random_data = best_dist.rvs(len(values_to_fit), random_state=42)\n",
    "random_counts, random_bins = np.histogram(random_data, bins=[50, 60, 70, 80, 90, 100, 110, 120, 130, 140, 150])\n",
    "RSS = np.sum((data_counts - random_counts)**2)\n",
    "\n",
    "print(f'{RSS =}')"
   ]
  },
  {
   "cell_type": "markdown",
   "id": "8af9a0c0-dfa1-43a0-8abe-b740654c0978",
   "metadata": {},
   "source": [
    "**Q4:** The `duration` column captures the recorded time for each trip. Generate a plot that provides insight into the distribution of this random quantity. Explain the visualization and what it tells you about trip durations. (**15 pts**)"
   ]
  },
  {
   "cell_type": "code",
   "execution_count": 11,
   "id": "3a781516-f022-4f63-9d46-1222f072f01f",
   "metadata": {
    "tags": []
   },
   "outputs": [
    {
     "data": {
      "image/png": "[encoded data removed]",
      "text/plain": [
       "<Figure size 600x300 with 1 Axes>"
      ]
     },
     "metadata": {},
     "output_type": "display_data"
    }
   ],
   "source": [
    "fig, ax = plt.subplots(1, 1, figsize=(6, 3))\n",
    "\n",
    "ax.hist(\n",
    "    data['duration'],\n",
    "    bins=50,\n",
    "    edgecolor='k',\n",
    ")\n",
    "plt.show()"
   ]
  },
  {
   "cell_type": "markdown",
   "id": "dfb397a7-fd88-426f-b04b-e278e0a19c1b",
   "metadata": {},
   "source": [
    "**Q5:** Do you notice anything odd about the distribution for the `duration` column? If so, can you find any additional features of the data that explain the odd aspects? If so, what are they? If not, is there any additional data that could be collected that would help in understanding the odd observations? (**15 pts**)"
   ]
  },
  {
   "cell_type": "code",
   "execution_count": 12,
   "id": "a9e2b790-4f73-47e0-baef-94a29504d6f2",
   "metadata": {},
   "outputs": [
    {
     "data": {
      "text/plain": [
       "(251, 16)"
      ]
     },
     "execution_count": 12,
     "metadata": {},
     "output_type": "execute_result"
    }
   ],
   "source": [
    "long_trip_data = data[data['duration'] >= 1200]\n",
    "long_trip_data.shape"
   ]
  },
  {
   "cell_type": "code",
   "execution_count": 13,
   "id": "f087c6ee-f15f-4f54-b38c-c82d39fca87e",
   "metadata": {},
   "outputs": [
    {
     "data": {
      "text/html": [
       "<div>\n",
       "<style scoped>\n",
       "    .dataframe tbody tr th:only-of-type {\n",
       "        vertical-align: middle;\n",
       "    }\n",
       "\n",
       "    .dataframe tbody tr th {\n",
       "        vertical-align: top;\n",
       "    }\n",
       "\n",
       "    .dataframe thead th {\n",
       "        text-align: right;\n",
       "    }\n",
       "</style>\n",
       "<table border=\"1\" class=\"dataframe\">\n",
       "  <thead>\n",
       "    <tr style=\"text-align: right;\">\n",
       "      <th></th>\n",
       "      <th>unique_trips</th>\n",
       "    </tr>\n",
       "    <tr>\n",
       "      <th>bike_type</th>\n",
       "      <th></th>\n",
       "    </tr>\n",
       "  </thead>\n",
       "  <tbody>\n",
       "    <tr>\n",
       "      <th>electric</th>\n",
       "      <td>104</td>\n",
       "    </tr>\n",
       "    <tr>\n",
       "      <th>standard</th>\n",
       "      <td>147</td>\n",
       "    </tr>\n",
       "  </tbody>\n",
       "</table>\n",
       "</div>"
      ],
      "text/plain": [
       "           unique_trips\n",
       "bike_type              \n",
       "electric            104\n",
       "standard            147"
      ]
     },
     "execution_count": 13,
     "metadata": {},
     "output_type": "execute_result"
    }
   ],
   "source": [
    "long_trip_data.groupby(\n",
    "    'bike_type',\n",
    ").agg(\n",
    "    unique_trips=('trip_id', 'nunique')\n",
    ")"
   ]
  },
  {
   "cell_type": "code",
   "execution_count": 14,
   "id": "2b59575f-186e-4fb8-8b3d-64a67f9a845f",
   "metadata": {},
   "outputs": [
    {
     "data": {
      "text/html": [
       "<div>\n",
       "<style scoped>\n",
       "    .dataframe tbody tr th:only-of-type {\n",
       "        vertical-align: middle;\n",
       "    }\n",
       "\n",
       "    .dataframe tbody tr th {\n",
       "        vertical-align: top;\n",
       "    }\n",
       "\n",
       "    .dataframe thead th {\n",
       "        text-align: right;\n",
       "    }\n",
       "</style>\n",
       "<table border=\"1\" class=\"dataframe\">\n",
       "  <thead>\n",
       "    <tr style=\"text-align: right;\">\n",
       "      <th></th>\n",
       "      <th>unique_trips</th>\n",
       "    </tr>\n",
       "    <tr>\n",
       "      <th>passholder_type</th>\n",
       "      <th></th>\n",
       "    </tr>\n",
       "  </thead>\n",
       "  <tbody>\n",
       "    <tr>\n",
       "      <th>Annual Pass</th>\n",
       "      <td>1</td>\n",
       "    </tr>\n",
       "    <tr>\n",
       "      <th>Monthly Pass</th>\n",
       "      <td>44</td>\n",
       "    </tr>\n",
       "    <tr>\n",
       "      <th>One Day Pass</th>\n",
       "      <td>89</td>\n",
       "    </tr>\n",
       "    <tr>\n",
       "      <th>Walk-up</th>\n",
       "      <td>117</td>\n",
       "    </tr>\n",
       "  </tbody>\n",
       "</table>\n",
       "</div>"
      ],
      "text/plain": [
       "                 unique_trips\n",
       "passholder_type              \n",
       "Annual Pass                 1\n",
       "Monthly Pass               44\n",
       "One Day Pass               89\n",
       "Walk-up                   117"
      ]
     },
     "execution_count": 14,
     "metadata": {},
     "output_type": "execute_result"
    }
   ],
   "source": [
    "long_trip_data.groupby(\n",
    "    'passholder_type',\n",
    ").agg(\n",
    "    unique_trips=('trip_id', 'nunique')\n",
    ")"
   ]
  },
  {
   "cell_type": "code",
   "execution_count": 15,
   "id": "f9efa14f-494c-4aa0-8f9c-5c5c9ed73be3",
   "metadata": {},
   "outputs": [
    {
     "data": {
      "text/html": [
       "<div>\n",
       "<style scoped>\n",
       "    .dataframe tbody tr th:only-of-type {\n",
       "        vertical-align: middle;\n",
       "    }\n",
       "\n",
       "    .dataframe tbody tr th {\n",
       "        vertical-align: top;\n",
       "    }\n",
       "\n",
       "    .dataframe thead th {\n",
       "        text-align: right;\n",
       "    }\n",
       "</style>\n",
       "<table border=\"1\" class=\"dataframe\">\n",
       "  <thead>\n",
       "    <tr style=\"text-align: right;\">\n",
       "      <th></th>\n",
       "      <th>unique_trips</th>\n",
       "    </tr>\n",
       "    <tr>\n",
       "      <th>start_date</th>\n",
       "      <th></th>\n",
       "    </tr>\n",
       "  </thead>\n",
       "  <tbody>\n",
       "    <tr>\n",
       "      <th>2023-05-05</th>\n",
       "      <td>1</td>\n",
       "    </tr>\n",
       "    <tr>\n",
       "      <th>2023-06-04</th>\n",
       "      <td>1</td>\n",
       "    </tr>\n",
       "    <tr>\n",
       "      <th>2023-05-12</th>\n",
       "      <td>1</td>\n",
       "    </tr>\n",
       "    <tr>\n",
       "      <th>2023-05-14</th>\n",
       "      <td>1</td>\n",
       "    </tr>\n",
       "    <tr>\n",
       "      <th>2023-05-01</th>\n",
       "      <td>1</td>\n",
       "    </tr>\n",
       "    <tr>\n",
       "      <th>...</th>\n",
       "      <td>...</td>\n",
       "    </tr>\n",
       "    <tr>\n",
       "      <th>2023-06-23</th>\n",
       "      <td>7</td>\n",
       "    </tr>\n",
       "    <tr>\n",
       "      <th>2023-04-15</th>\n",
       "      <td>7</td>\n",
       "    </tr>\n",
       "    <tr>\n",
       "      <th>2023-06-10</th>\n",
       "      <td>8</td>\n",
       "    </tr>\n",
       "    <tr>\n",
       "      <th>2023-06-20</th>\n",
       "      <td>11</td>\n",
       "    </tr>\n",
       "    <tr>\n",
       "      <th>2023-06-19</th>\n",
       "      <td>14</td>\n",
       "    </tr>\n",
       "  </tbody>\n",
       "</table>\n",
       "<p>80 rows × 1 columns</p>\n",
       "</div>"
      ],
      "text/plain": [
       "            unique_trips\n",
       "start_date              \n",
       "2023-05-05             1\n",
       "2023-06-04             1\n",
       "2023-05-12             1\n",
       "2023-05-14             1\n",
       "2023-05-01             1\n",
       "...                  ...\n",
       "2023-06-23             7\n",
       "2023-04-15             7\n",
       "2023-06-10             8\n",
       "2023-06-20            11\n",
       "2023-06-19            14\n",
       "\n",
       "[80 rows x 1 columns]"
      ]
     },
     "execution_count": 15,
     "metadata": {},
     "output_type": "execute_result"
    }
   ],
   "source": [
    "long_trip_data.groupby(\n",
    "    'start_date',\n",
    ").agg(\n",
    "    unique_trips=('trip_id', 'nunique')\n",
    ").sort_values(by='unique_trips')"
   ]
  },
  {
   "cell_type": "markdown",
   "id": "db840fd7-9b5d-4d03-9642-fc15c9f5288c",
   "metadata": {},
   "source": [
    "**Q6:** The company is interested in increasing the number of annual pass holders as these customers generate a more predictable revenue stream. What is the current breakdown of trips by `passholder_type`? (**10 pts**)"
   ]
  },
  {
   "cell_type": "code",
   "execution_count": 16,
   "id": "2bf8aeec-9e88-4f11-8a19-b3d75f0ae499",
   "metadata": {
    "tags": []
   },
   "outputs": [
    {
     "data": {
      "text/html": [
       "<div>\n",
       "<style scoped>\n",
       "    .dataframe tbody tr th:only-of-type {\n",
       "        vertical-align: middle;\n",
       "    }\n",
       "\n",
       "    .dataframe tbody tr th {\n",
       "        vertical-align: top;\n",
       "    }\n",
       "\n",
       "    .dataframe thead th {\n",
       "        text-align: right;\n",
       "    }\n",
       "</style>\n",
       "<table border=\"1\" class=\"dataframe\">\n",
       "  <thead>\n",
       "    <tr style=\"text-align: right;\">\n",
       "      <th></th>\n",
       "      <th>unique_trips</th>\n",
       "    </tr>\n",
       "    <tr>\n",
       "      <th>passholder_type</th>\n",
       "      <th></th>\n",
       "    </tr>\n",
       "  </thead>\n",
       "  <tbody>\n",
       "    <tr>\n",
       "      <th>Annual Pass</th>\n",
       "      <td>10123</td>\n",
       "    </tr>\n",
       "    <tr>\n",
       "      <th>Monthly Pass</th>\n",
       "      <td>65902</td>\n",
       "    </tr>\n",
       "    <tr>\n",
       "      <th>One Day Pass</th>\n",
       "      <td>10079</td>\n",
       "    </tr>\n",
       "    <tr>\n",
       "      <th>Walk-up</th>\n",
       "      <td>23332</td>\n",
       "    </tr>\n",
       "  </tbody>\n",
       "</table>\n",
       "</div>"
      ],
      "text/plain": [
       "                 unique_trips\n",
       "passholder_type              \n",
       "Annual Pass             10123\n",
       "Monthly Pass            65902\n",
       "One Day Pass            10079\n",
       "Walk-up                 23332"
      ]
     },
     "execution_count": 16,
     "metadata": {},
     "output_type": "execute_result"
    }
   ],
   "source": [
    "data.groupby(\n",
    "    'passholder_type'\n",
    ").agg(\n",
    "    unique_trips=('trip_id', 'nunique')\n",
    ")"
   ]
  },
  {
   "cell_type": "markdown",
   "id": "ced094c8-afee-48bc-92c9-5b075e64a012",
   "metadata": {},
   "source": [
    "**Q7:** Can you identify any diferences between trips associated with annual pass holders and monthly pass holders that can inform a strategy for converting monthly pass holders to annual pass holders? (**20 pts**)"
   ]
  },
  {
   "cell_type": "code",
   "execution_count": 17,
   "id": "852986b7-80a5-4097-85e3-2c05806d0bb9",
   "metadata": {
    "tags": []
   },
   "outputs": [
    {
     "data": {
      "image/png": "[encoded data removed]",
      "text/plain": [
       "<Figure size 600x300 with 1 Axes>"
      ]
     },
     "metadata": {},
     "output_type": "display_data"
    }
   ],
   "source": [
    "target_passholders_data = data[data['passholder_type'].isin(['Annual Pass', 'Monthly Pass'])]\n",
    "trips_by_day = target_passholders_data.groupby(\n",
    "    ['start_date', 'start_day', 'passholder_type']\n",
    ").agg(\n",
    "    unique_trips=('trip_id', 'nunique')\n",
    ").reset_index()\n",
    "\n",
    "trips_by_day.loc[trips_by_day['passholder_type']=='Annual Pass', 'num_passholders'] = 10123\n",
    "trips_by_day.loc[trips_by_day['passholder_type']=='Monthly Pass', 'num_passholders'] = 65902\n",
    "trips_by_day['trips_fraction'] = trips_by_day['unique_trips']/trips_by_day['num_passholders']\n",
    "\n",
    "fig, ax = plt.subplots(1, 1, figsize=(6, 3))\n",
    "\n",
    "sns.pointplot(\n",
    "    trips_by_day,\n",
    "    x='start_day',\n",
    "    y='trips_fraction',\n",
    "    hue='passholder_type',\n",
    "    join=False,\n",
    "    dodge=0.2,\n",
    ")\n",
    "\n",
    "plt.show()"
   ]
  },
  {
   "cell_type": "code",
   "execution_count": null,
   "id": "a88c3b46-d546-4496-944e-625580ec04e8",
   "metadata": {},
   "outputs": [],
   "source": []
  }
 ],
 "metadata": {
  "kernelspec": {
   "display_name": "Python 3 (ipykernel)",
   "language": "python",
   "name": "python3"
  },
  "language_info": {
   "codemirror_mode": {
    "name": "ipython",
    "version": 3
   },
   "file_extension": ".py",
   "mimetype": "text/x-python",
   "name": "python",
   "nbconvert_exporter": "python",
   "pygments_lexer": "ipython3",
   "version": "3.11.5"
  }
 },
 "nbformat": 4,
 "nbformat_minor": 5
}
