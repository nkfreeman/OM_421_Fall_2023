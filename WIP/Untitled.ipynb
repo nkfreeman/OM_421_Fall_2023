{
 "cells": [
  {
   "cell_type": "code",
   "execution_count": null,
   "id": "f820d5b4-fed6-4288-842e-0762c65f5653",
   "metadata": {
    "tags": []
   },
   "outputs": [],
   "source": [
    "import pathlib\n",
    "import sqlite3\n",
    "\n",
    "import matplotlib.pyplot as plt\n",
    "import pandas as pd\n",
    "pd.set_option('display.max_columns', None)"
   ]
  },
  {
   "cell_type": "code",
   "execution_count": null,
   "id": "2599846e-cb47-44dd-9468-a639b17006fd",
   "metadata": {
    "tags": []
   },
   "outputs": [],
   "source": [
    "db_path = pathlib.Path('../data/northwind/northwind.db')\n",
    "db_path.exists()"
   ]
  },
  {
   "cell_type": "code",
   "execution_count": null,
   "id": "1ec5ff73-ce7c-4e41-9407-49530276189c",
   "metadata": {
    "tags": []
   },
   "outputs": [],
   "source": [
    "with sqlite3.Connection(db_path) as conn:\n",
    "    orders = pd.read_sql('SELECT * from Orders', conn)"
   ]
  },
  {
   "cell_type": "code",
   "execution_count": null,
   "id": "6fc673b7-97a9-4af5-81ad-ce9df0ba0db4",
   "metadata": {
    "tags": []
   },
   "outputs": [],
   "source": [
    "orders.info()"
   ]
  },
  {
   "cell_type": "code",
   "execution_count": null,
   "id": "055d8e0a-e09f-4286-b32d-44eb40ee6c40",
   "metadata": {
    "tags": []
   },
   "outputs": [],
   "source": [
    "orders.head()"
   ]
  },
  {
   "cell_type": "code",
   "execution_count": null,
   "id": "972cbd57-6314-444d-be0a-57637d724d52",
   "metadata": {
    "tags": []
   },
   "outputs": [],
   "source": [
    "type(orders)"
   ]
  },
  {
   "cell_type": "code",
   "execution_count": null,
   "id": "7a4ec234-dd21-4dbe-ba00-6a796a0c83d1",
   "metadata": {
    "tags": []
   },
   "outputs": [],
   "source": [
    "orders.loc[4, 'ShipName']"
   ]
  },
  {
   "cell_type": "code",
   "execution_count": null,
   "id": "f6d03fda-98f9-485e-bcf2-015fd41027e7",
   "metadata": {
    "tags": []
   },
   "outputs": [],
   "source": [
    "orders.loc[4, ['OrderID', 'ShipName']]"
   ]
  },
  {
   "cell_type": "code",
   "execution_count": null,
   "id": "e91bc30f-ee53-4f41-abff-7b9b003ab59d",
   "metadata": {
    "tags": []
   },
   "outputs": [],
   "source": [
    "orders.loc[[1, 3], ['OrderID', 'ShipName']]"
   ]
  },
  {
   "cell_type": "code",
   "execution_count": null,
   "id": "754bf7bc-50aa-4cc8-946a-0a02203b5309",
   "metadata": {
    "tags": []
   },
   "outputs": [],
   "source": [
    "orders['ShipName']"
   ]
  },
  {
   "cell_type": "code",
   "execution_count": null,
   "id": "c1517d78-b8a9-485f-b914-98727c3010fb",
   "metadata": {
    "tags": []
   },
   "outputs": [],
   "source": [
    "type(orders['ShipName'])"
   ]
  },
  {
   "cell_type": "code",
   "execution_count": null,
   "id": "5fa0ddcb-3f24-44a5-9e76-b8f566680faa",
   "metadata": {
    "tags": []
   },
   "outputs": [],
   "source": [
    "temp = orders['ShipName'].copy()\n",
    "temp"
   ]
  },
  {
   "cell_type": "code",
   "execution_count": null,
   "id": "019b2f9e-ecb2-4691-bbf3-bddbc24aace4",
   "metadata": {
    "tags": []
   },
   "outputs": [],
   "source": [
    "temp.loc[4]"
   ]
  },
  {
   "cell_type": "code",
   "execution_count": null,
   "id": "e1f45f3a-53a9-44d7-9dee-abaef95d9b92",
   "metadata": {
    "tags": []
   },
   "outputs": [],
   "source": [
    "orders['ShipName'].loc[4]"
   ]
  },
  {
   "cell_type": "code",
   "execution_count": null,
   "id": "2032b2f8-1960-4542-bf4b-e7bab0b2a4b2",
   "metadata": {
    "tags": []
   },
   "outputs": [],
   "source": [
    "orders['ShipName'] == 'Simons bistro'"
   ]
  },
  {
   "cell_type": "code",
   "execution_count": null,
   "id": "fd5b9c70-0b66-4761-84b2-0e34e93c3f99",
   "metadata": {
    "tags": []
   },
   "outputs": [],
   "source": [
    "mask = orders['ShipName'] == 'Simons bistro'\n",
    "mask"
   ]
  },
  {
   "cell_type": "code",
   "execution_count": null,
   "id": "9c9df68c-ff3c-4084-9d3c-ba409d01ab2d",
   "metadata": {
    "tags": []
   },
   "outputs": [],
   "source": [
    "orders[mask]"
   ]
  },
  {
   "cell_type": "code",
   "execution_count": null,
   "id": "412cbf9a-f204-492b-81c4-9c50cce8aceb",
   "metadata": {
    "tags": []
   },
   "outputs": [],
   "source": [
    "orders.ShipRegion.unique()"
   ]
  },
  {
   "cell_type": "code",
   "execution_count": null,
   "id": "5127868b-6eac-4623-943c-7cf70c765df9",
   "metadata": {
    "tags": []
   },
   "outputs": [],
   "source": [
    "ship_region_mask = orders.ShipRegion == 'Western Europe'\n",
    "ship_region_data = orders[ship_region_mask]\n",
    "ship_region_data"
   ]
  },
  {
   "cell_type": "code",
   "execution_count": null,
   "id": "7a460924-c293-40b4-951e-e58d276ba68d",
   "metadata": {
    "tags": []
   },
   "outputs": [],
   "source": [
    "ship_region_time_series = ship_region_data.groupby(\n",
    "    'ShippedDate'\n",
    ")['OrderID'].nunique()"
   ]
  },
  {
   "cell_type": "code",
   "execution_count": null,
   "id": "20d208b8-bf3d-403e-bca2-101f3d128787",
   "metadata": {
    "tags": []
   },
   "outputs": [],
   "source": [
    "ship_region_time_series"
   ]
  },
  {
   "cell_type": "code",
   "execution_count": null,
   "id": "799da211-062c-4039-ba13-0322d5ade649",
   "metadata": {
    "tags": []
   },
   "outputs": [],
   "source": [
    "ship_region_time_series.plot()"
   ]
  },
  {
   "cell_type": "code",
   "execution_count": null,
   "id": "8fe5f732-cf8b-4293-8290-35472bc3e6c6",
   "metadata": {
    "tags": []
   },
   "outputs": [],
   "source": [
    "orders.ShippedDate = pd.to_datetime(orders.ShippedDate)"
   ]
  },
  {
   "cell_type": "code",
   "execution_count": null,
   "id": "590d9061-033c-43c7-a2bd-cd2f13421649",
   "metadata": {
    "tags": []
   },
   "outputs": [],
   "source": [
    "ship_region_time_series = ship_region_data.groupby(\n",
    "    'ShippedDate'\n",
    ")['OrderID'].nunique()\n",
    "ship_region_time_series.plot()"
   ]
  },
  {
   "cell_type": "code",
   "execution_count": null,
   "id": "ae72f6b1-113c-4817-a9ad-eca808a80e0a",
   "metadata": {
    "tags": []
   },
   "outputs": [],
   "source": [
    "ship_region_mask = orders.ShipRegion == 'Western Europe'\n",
    "ship_region_data = orders[ship_region_mask]\n",
    "ship_region_time_series = ship_region_data.groupby(\n",
    "    'ShippedDate'\n",
    ")['OrderID'].nunique()\n",
    "ship_region_time_series.plot()"
   ]
  },
  {
   "cell_type": "code",
   "execution_count": null,
   "id": "8f0113a8-2f29-4095-b1b9-f3a7d78c284f",
   "metadata": {
    "tags": []
   },
   "outputs": [],
   "source": [
    "ship_region_time_series.rolling(30).sum()"
   ]
  },
  {
   "cell_type": "code",
   "execution_count": null,
   "id": "e5827223-9b0b-40c4-ac64-6ed1fd805a48",
   "metadata": {
    "tags": []
   },
   "outputs": [],
   "source": [
    "ship_region_mask = orders.ShipRegion == 'Western Europe'\n",
    "ship_region_data = orders[ship_region_mask]\n",
    "ship_region_time_series = ship_region_data.groupby(\n",
    "    'ShippedDate'\n",
    ")['OrderID'].nunique()\n",
    "ship_region_time_series.rolling(30).sum().plot()"
   ]
  },
  {
   "cell_type": "code",
   "execution_count": null,
   "id": "ddd927eb-22ec-486b-820b-793864d38ef1",
   "metadata": {
    "tags": []
   },
   "outputs": [],
   "source": [
    "# help(ship_region_time_series.plot)"
   ]
  },
  {
   "cell_type": "code",
   "execution_count": null,
   "id": "da4496b1-556c-4bbe-9d4b-e695e992aaa9",
   "metadata": {
    "tags": []
   },
   "outputs": [],
   "source": [
    "target_region = 'Western Europe'"
   ]
  },
  {
   "cell_type": "code",
   "execution_count": null,
   "id": "a8e853dd-7678-477c-9569-ff6886adade4",
   "metadata": {
    "tags": []
   },
   "outputs": [],
   "source": [
    "target_region"
   ]
  },
  {
   "cell_type": "code",
   "execution_count": null,
   "id": "4794576a-5bbf-466d-bcf6-0af5172b5172",
   "metadata": {
    "tags": []
   },
   "outputs": [],
   "source": [
    "ship_region_mask = orders.ShipRegion == target_region\n",
    "ship_region_data = orders[ship_region_mask]\n",
    "ship_region_time_series = ship_region_data.groupby(\n",
    "    'ShippedDate'\n",
    ")['OrderID'].nunique()\n",
    "ship_region_time_series.rolling(30).sum().plot(title=target_region);"
   ]
  },
  {
   "cell_type": "code",
   "execution_count": null,
   "id": "e9976b15-7611-4ecf-8614-068072b1eb17",
   "metadata": {
    "tags": []
   },
   "outputs": [],
   "source": [
    "for target_region in orders.ShipRegion.unique():\n",
    "    ship_region_mask = orders.ShipRegion == target_region\n",
    "    ship_region_data = orders[ship_region_mask]\n",
    "    ship_region_time_series = ship_region_data.groupby(\n",
    "        'ShippedDate'\n",
    "    )['OrderID'].nunique()\n",
    "    ship_region_time_series.rolling(30).sum().plot(title=target_region);"
   ]
  },
  {
   "cell_type": "code",
   "execution_count": null,
   "id": "c98dd27a-30e4-4d5d-9322-a6d93a5b847f",
   "metadata": {
    "tags": []
   },
   "outputs": [],
   "source": [
    "for target_region in orders.ShipRegion.unique():\n",
    "    ship_region_mask = orders.ShipRegion == target_region\n",
    "    ship_region_data = orders[ship_region_mask]\n",
    "    ship_region_time_series = ship_region_data.groupby(\n",
    "        'ShippedDate'\n",
    "    )['OrderID'].nunique()\n",
    "    \n",
    "    fig, ax = plt.subplots(1, 1, figsize=(6, 4))\n",
    "    \n",
    "    ship_region_time_series.rolling(7).sum().plot(title=target_region, ax=ax)\n",
    "    \n",
    "    plt.show()"
   ]
  },
  {
   "cell_type": "code",
   "execution_count": null,
   "id": "2a3bf4be-3054-48a1-b182-e9404c37abba",
   "metadata": {
    "tags": []
   },
   "outputs": [],
   "source": [
    "plots_directory = pathlib.Path('northwinds_plots')\n",
    "plots_directory.mkdir(exist_ok=True)\n",
    "\n",
    "for target_region in orders.ShipRegion.unique():\n",
    "    ship_region_mask = orders.ShipRegion == target_region\n",
    "    ship_region_data = orders[ship_region_mask]\n",
    "    ship_region_time_series = ship_region_data.groupby(\n",
    "        'ShippedDate'\n",
    "    )['OrderID'].nunique()\n",
    "    \n",
    "    fig, ax = plt.subplots(1, 1, figsize=(6, 4))\n",
    "    \n",
    "    ship_region_time_series.rolling(7).sum().plot(title=target_region, ax=ax)\n",
    "    \n",
    "    plot_filepath = pathlib.Path(plots_directory, f'{target_region}.png')\n",
    "    plt.savefig(plot_filepath)\n",
    "    plt.show()"
   ]
  },
  {
   "cell_type": "code",
   "execution_count": null,
   "id": "e197d986-4718-42a1-aae8-eff8144a0e9b",
   "metadata": {},
   "outputs": [],
   "source": []
  },
  {
   "cell_type": "code",
   "execution_count": null,
   "id": "8c18e31b-d134-4d3d-9aa9-70bd3a280536",
   "metadata": {
    "tags": []
   },
   "outputs": [],
   "source": [
    "with sqlite3.Connection(db_path) as conn:\n",
    "    orders = pd.read_sql('SELECT * from Orders', conn)\n",
    "    customers = pd.read_sql('SELECT * from Customers', conn)\n",
    "    shippers = pd.read_sql('SELECT * from Shippers', conn)\n",
    "    order_details = pd.read_sql('SELECT * from \"Order Details\"', conn)\n",
    "    products = pd.read_sql('SELECT * from Products', conn)\n",
    "    suppliers = pd.read_sql('SELECT * from Suppliers', conn)"
   ]
  },
  {
   "cell_type": "code",
   "execution_count": null,
   "id": "e3ac286e-6a91-4484-b088-03a122ea601a",
   "metadata": {
    "tags": []
   },
   "outputs": [],
   "source": [
    "orders.info()"
   ]
  },
  {
   "cell_type": "code",
   "execution_count": null,
   "id": "a327dcb9-3fee-443c-ab1d-3880f1ca47ee",
   "metadata": {
    "tags": []
   },
   "outputs": [],
   "source": [
    "orders.groupby(\n",
    "    'ShippedDate'\n",
    ")['OrderID'].nunique().rolling(30).mean().plot()"
   ]
  },
  {
   "cell_type": "code",
   "execution_count": null,
   "id": "850c26cd-e4ee-4167-9977-0a0f0bc9c214",
   "metadata": {
    "tags": []
   },
   "outputs": [],
   "source": [
    "orders.merge(customers)"
   ]
  },
  {
   "cell_type": "code",
   "execution_count": null,
   "id": "a098f4a4-ed41-404d-9e06-7d582c278952",
   "metadata": {
    "tags": []
   },
   "outputs": [],
   "source": [
    "shippers"
   ]
  },
  {
   "cell_type": "code",
   "execution_count": null,
   "id": "38cd22b9-2f80-45a5-a6f2-6f535eaba7f0",
   "metadata": {
    "tags": []
   },
   "outputs": [],
   "source": [
    "customers"
   ]
  },
  {
   "cell_type": "code",
   "execution_count": null,
   "id": "4ceffed9-bc5c-4c97-8d72-09d9fa05614e",
   "metadata": {},
   "outputs": [],
   "source": []
  }
 ],
 "metadata": {
  "kernelspec": {
   "display_name": "Python 3 (ipykernel)",
   "language": "python",
   "name": "python3"
  },
  "language_info": {
   "codemirror_mode": {
    "name": "ipython",
    "version": 3
   },
   "file_extension": ".py",
   "mimetype": "text/x-python",
   "name": "python",
   "nbconvert_exporter": "python",
   "pygments_lexer": "ipython3",
   "version": "3.11.4"
  }
 },
 "nbformat": 4,
 "nbformat_minor": 5
}
