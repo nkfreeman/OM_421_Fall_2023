{
 "cells": [
  {
   "cell_type": "markdown",
   "id": "482320d1-04fb-47b4-9870-ad63b4e4282d",
   "metadata": {
    "tags": []
   },
   "source": [
    "The following code block imports libraries we will be using."
   ]
  },
  {
   "cell_type": "code",
   "execution_count": 1,
   "id": "2df9c5e0-0ff6-46d7-8afa-13a8f55add82",
   "metadata": {
    "tags": []
   },
   "outputs": [],
   "source": [
    "import pathlib\n",
    "import sqlite3\n",
    "\n",
    "import matplotlib.pyplot as plt\n",
    "import pandas as pd"
   ]
  },
  {
   "cell_type": "markdown",
   "id": "2ce6a5d3-4239-4418-be3f-771a77e2467a",
   "metadata": {},
   "source": [
    "The following code block reads all records from the `Orders` table in the `northwind.db` file. **Note:** the `northwind.db` file should be in the same folder as this notebook. "
   ]
  },
  {
   "cell_type": "code",
   "execution_count": 2,
   "id": "5c9a3749-afab-4f7f-af53-201ad33aa8a1",
   "metadata": {
    "tags": []
   },
   "outputs": [
    {
     "data": {
      "text/html": [
       "<div>\n",
       "<style scoped>\n",
       "    .dataframe tbody tr th:only-of-type {\n",
       "        vertical-align: middle;\n",
       "    }\n",
       "\n",
       "    .dataframe tbody tr th {\n",
       "        vertical-align: top;\n",
       "    }\n",
       "\n",
       "    .dataframe thead th {\n",
       "        text-align: right;\n",
       "    }\n",
       "</style>\n",
       "<table border=\"1\" class=\"dataframe\">\n",
       "  <thead>\n",
       "    <tr style=\"text-align: right;\">\n",
       "      <th></th>\n",
       "      <th>OrderID</th>\n",
       "      <th>CustomerID</th>\n",
       "      <th>EmployeeID</th>\n",
       "      <th>OrderDate</th>\n",
       "      <th>RequiredDate</th>\n",
       "      <th>ShippedDate</th>\n",
       "      <th>ShipVia</th>\n",
       "      <th>Freight</th>\n",
       "      <th>ShipName</th>\n",
       "      <th>ShipAddress</th>\n",
       "      <th>ShipCity</th>\n",
       "      <th>ShipRegion</th>\n",
       "      <th>ShipPostalCode</th>\n",
       "      <th>ShipCountry</th>\n",
       "    </tr>\n",
       "  </thead>\n",
       "  <tbody>\n",
       "    <tr>\n",
       "      <th>0</th>\n",
       "      <td>10248</td>\n",
       "      <td>VINET</td>\n",
       "      <td>5</td>\n",
       "      <td>2016-07-04</td>\n",
       "      <td>2016-08-01</td>\n",
       "      <td>2016-07-16</td>\n",
       "      <td>3</td>\n",
       "      <td>32.38</td>\n",
       "      <td>Vins et alcools Chevalier</td>\n",
       "      <td>59 rue de l-Abbaye</td>\n",
       "      <td>Reims</td>\n",
       "      <td>Western Europe</td>\n",
       "      <td>51100</td>\n",
       "      <td>France</td>\n",
       "    </tr>\n",
       "    <tr>\n",
       "      <th>1</th>\n",
       "      <td>10249</td>\n",
       "      <td>TOMSP</td>\n",
       "      <td>6</td>\n",
       "      <td>2016-07-05</td>\n",
       "      <td>2016-08-16</td>\n",
       "      <td>2016-07-10</td>\n",
       "      <td>1</td>\n",
       "      <td>11.61</td>\n",
       "      <td>Toms Spezialitäten</td>\n",
       "      <td>Luisenstr. 48</td>\n",
       "      <td>Münster</td>\n",
       "      <td>Western Europe</td>\n",
       "      <td>44087</td>\n",
       "      <td>Germany</td>\n",
       "    </tr>\n",
       "    <tr>\n",
       "      <th>2</th>\n",
       "      <td>10250</td>\n",
       "      <td>HANAR</td>\n",
       "      <td>4</td>\n",
       "      <td>2016-07-08</td>\n",
       "      <td>2016-08-05</td>\n",
       "      <td>2016-07-12</td>\n",
       "      <td>2</td>\n",
       "      <td>65.83</td>\n",
       "      <td>Hanari Carnes</td>\n",
       "      <td>Rua do Paço, 67</td>\n",
       "      <td>Rio de Janeiro</td>\n",
       "      <td>South America</td>\n",
       "      <td>05454-876</td>\n",
       "      <td>Brazil</td>\n",
       "    </tr>\n",
       "    <tr>\n",
       "      <th>3</th>\n",
       "      <td>10251</td>\n",
       "      <td>VICTE</td>\n",
       "      <td>3</td>\n",
       "      <td>2016-07-08</td>\n",
       "      <td>2016-08-05</td>\n",
       "      <td>2016-07-15</td>\n",
       "      <td>1</td>\n",
       "      <td>41.34</td>\n",
       "      <td>Victuailles en stock</td>\n",
       "      <td>2, rue du Commerce</td>\n",
       "      <td>Lyon</td>\n",
       "      <td>Western Europe</td>\n",
       "      <td>69004</td>\n",
       "      <td>France</td>\n",
       "    </tr>\n",
       "    <tr>\n",
       "      <th>4</th>\n",
       "      <td>10252</td>\n",
       "      <td>SUPRD</td>\n",
       "      <td>4</td>\n",
       "      <td>2016-07-09</td>\n",
       "      <td>2016-08-06</td>\n",
       "      <td>2016-07-11</td>\n",
       "      <td>2</td>\n",
       "      <td>51.30</td>\n",
       "      <td>Suprêmes délices</td>\n",
       "      <td>Boulevard Tirou, 255</td>\n",
       "      <td>Charleroi</td>\n",
       "      <td>Western Europe</td>\n",
       "      <td>B-6000</td>\n",
       "      <td>Belgium</td>\n",
       "    </tr>\n",
       "  </tbody>\n",
       "</table>\n",
       "</div>"
      ],
      "text/plain": [
       "   OrderID CustomerID  EmployeeID   OrderDate RequiredDate ShippedDate   \n",
       "0    10248      VINET           5  2016-07-04   2016-08-01  2016-07-16  \\\n",
       "1    10249      TOMSP           6  2016-07-05   2016-08-16  2016-07-10   \n",
       "2    10250      HANAR           4  2016-07-08   2016-08-05  2016-07-12   \n",
       "3    10251      VICTE           3  2016-07-08   2016-08-05  2016-07-15   \n",
       "4    10252      SUPRD           4  2016-07-09   2016-08-06  2016-07-11   \n",
       "\n",
       "   ShipVia  Freight                   ShipName           ShipAddress   \n",
       "0        3    32.38  Vins et alcools Chevalier    59 rue de l-Abbaye  \\\n",
       "1        1    11.61         Toms Spezialitäten         Luisenstr. 48   \n",
       "2        2    65.83              Hanari Carnes       Rua do Paço, 67   \n",
       "3        1    41.34       Victuailles en stock    2, rue du Commerce   \n",
       "4        2    51.30           Suprêmes délices  Boulevard Tirou, 255   \n",
       "\n",
       "         ShipCity      ShipRegion ShipPostalCode ShipCountry  \n",
       "0           Reims  Western Europe          51100      France  \n",
       "1         Münster  Western Europe          44087     Germany  \n",
       "2  Rio de Janeiro   South America      05454-876      Brazil  \n",
       "3            Lyon  Western Europe          69004      France  \n",
       "4       Charleroi  Western Europe         B-6000     Belgium  "
      ]
     },
     "execution_count": 2,
     "metadata": {},
     "output_type": "execute_result"
    }
   ],
   "source": [
    "with sqlite3.Connection('northwind.db') as conn:\n",
    "    orders = pd.read_sql('SELECT * FROM Orders', conn)\n",
    "orders.head()"
   ]
  },
  {
   "cell_type": "markdown",
   "id": "79d4f392-a312-4f97-aef3-dc601a10bff3",
   "metadata": {},
   "source": [
    "The following code block show how we could select a subset of columns (`OrderID` and `CustomerID`) from the `Orders` table in the `northwind.db` file."
   ]
  },
  {
   "cell_type": "code",
   "execution_count": 3,
   "id": "942b3859-a0d9-4a13-9043-5861b6f0c9c4",
   "metadata": {
    "tags": []
   },
   "outputs": [
    {
     "data": {
      "text/html": [
       "<div>\n",
       "<style scoped>\n",
       "    .dataframe tbody tr th:only-of-type {\n",
       "        vertical-align: middle;\n",
       "    }\n",
       "\n",
       "    .dataframe tbody tr th {\n",
       "        vertical-align: top;\n",
       "    }\n",
       "\n",
       "    .dataframe thead th {\n",
       "        text-align: right;\n",
       "    }\n",
       "</style>\n",
       "<table border=\"1\" class=\"dataframe\">\n",
       "  <thead>\n",
       "    <tr style=\"text-align: right;\">\n",
       "      <th></th>\n",
       "      <th>OrderID</th>\n",
       "      <th>CustomerID</th>\n",
       "    </tr>\n",
       "  </thead>\n",
       "  <tbody>\n",
       "    <tr>\n",
       "      <th>0</th>\n",
       "      <td>10248</td>\n",
       "      <td>VINET</td>\n",
       "    </tr>\n",
       "    <tr>\n",
       "      <th>1</th>\n",
       "      <td>10249</td>\n",
       "      <td>TOMSP</td>\n",
       "    </tr>\n",
       "    <tr>\n",
       "      <th>2</th>\n",
       "      <td>10250</td>\n",
       "      <td>HANAR</td>\n",
       "    </tr>\n",
       "    <tr>\n",
       "      <th>3</th>\n",
       "      <td>10251</td>\n",
       "      <td>VICTE</td>\n",
       "    </tr>\n",
       "    <tr>\n",
       "      <th>4</th>\n",
       "      <td>10252</td>\n",
       "      <td>SUPRD</td>\n",
       "    </tr>\n",
       "  </tbody>\n",
       "</table>\n",
       "</div>"
      ],
      "text/plain": [
       "   OrderID CustomerID\n",
       "0    10248      VINET\n",
       "1    10249      TOMSP\n",
       "2    10250      HANAR\n",
       "3    10251      VICTE\n",
       "4    10252      SUPRD"
      ]
     },
     "execution_count": 3,
     "metadata": {},
     "output_type": "execute_result"
    }
   ],
   "source": [
    "with sqlite3.Connection('northwind.db') as conn:\n",
    "    temp = pd.read_sql('SELECT OrderID, CustomerID FROM Orders', conn)\n",
    "temp.head()"
   ]
  },
  {
   "cell_type": "markdown",
   "id": "75ea1cb3-b179-4c4c-acbb-67d6910a12dc",
   "metadata": {
    "tags": []
   },
   "source": [
    "The following code block reads all records from the `Order Details` table in the `northwind.db` file. **Note:** we need to use double quotation marks because the table name includes a space."
   ]
  },
  {
   "cell_type": "code",
   "execution_count": 4,
   "id": "68880965-e7d2-4ed2-830f-1590c4774398",
   "metadata": {
    "tags": []
   },
   "outputs": [
    {
     "data": {
      "text/html": [
       "<div>\n",
       "<style scoped>\n",
       "    .dataframe tbody tr th:only-of-type {\n",
       "        vertical-align: middle;\n",
       "    }\n",
       "\n",
       "    .dataframe tbody tr th {\n",
       "        vertical-align: top;\n",
       "    }\n",
       "\n",
       "    .dataframe thead th {\n",
       "        text-align: right;\n",
       "    }\n",
       "</style>\n",
       "<table border=\"1\" class=\"dataframe\">\n",
       "  <thead>\n",
       "    <tr style=\"text-align: right;\">\n",
       "      <th></th>\n",
       "      <th>OrderID</th>\n",
       "      <th>ProductID</th>\n",
       "      <th>UnitPrice</th>\n",
       "      <th>Quantity</th>\n",
       "      <th>Discount</th>\n",
       "    </tr>\n",
       "  </thead>\n",
       "  <tbody>\n",
       "    <tr>\n",
       "      <th>0</th>\n",
       "      <td>10248</td>\n",
       "      <td>11</td>\n",
       "      <td>14.0</td>\n",
       "      <td>12</td>\n",
       "      <td>0.0</td>\n",
       "    </tr>\n",
       "    <tr>\n",
       "      <th>1</th>\n",
       "      <td>10248</td>\n",
       "      <td>42</td>\n",
       "      <td>9.8</td>\n",
       "      <td>10</td>\n",
       "      <td>0.0</td>\n",
       "    </tr>\n",
       "    <tr>\n",
       "      <th>2</th>\n",
       "      <td>10248</td>\n",
       "      <td>72</td>\n",
       "      <td>34.8</td>\n",
       "      <td>5</td>\n",
       "      <td>0.0</td>\n",
       "    </tr>\n",
       "    <tr>\n",
       "      <th>3</th>\n",
       "      <td>10249</td>\n",
       "      <td>14</td>\n",
       "      <td>18.6</td>\n",
       "      <td>9</td>\n",
       "      <td>0.0</td>\n",
       "    </tr>\n",
       "    <tr>\n",
       "      <th>4</th>\n",
       "      <td>10249</td>\n",
       "      <td>51</td>\n",
       "      <td>42.4</td>\n",
       "      <td>40</td>\n",
       "      <td>0.0</td>\n",
       "    </tr>\n",
       "  </tbody>\n",
       "</table>\n",
       "</div>"
      ],
      "text/plain": [
       "   OrderID  ProductID  UnitPrice  Quantity  Discount\n",
       "0    10248         11       14.0        12       0.0\n",
       "1    10248         42        9.8        10       0.0\n",
       "2    10248         72       34.8         5       0.0\n",
       "3    10249         14       18.6         9       0.0\n",
       "4    10249         51       42.4        40       0.0"
      ]
     },
     "execution_count": 4,
     "metadata": {},
     "output_type": "execute_result"
    }
   ],
   "source": [
    "with sqlite3.Connection('northwind.db') as conn:\n",
    "    order_details = pd.read_sql('SELECT * FROM \"Order Details\"', conn)\n",
    "order_details.head(5)"
   ]
  },
  {
   "cell_type": "markdown",
   "id": "b1f254e9-025a-4c74-9fad-4b752f6f5fa5",
   "metadata": {},
   "source": [
    "The following code block computes the number of products (total quantity) for each order and the number of unique product ids for each order. **Note:** the `reset_index()` call at the end brings the `index` of the aggregated data, which is the column(s) specified in the `groupby` function in as column and creates a new index that is sequential integers."
   ]
  },
  {
   "cell_type": "code",
   "execution_count": 5,
   "id": "1d191b1f-47c2-4ff9-a85a-3a6b7268b471",
   "metadata": {
    "tags": []
   },
   "outputs": [
    {
     "data": {
      "text/html": [
       "<div>\n",
       "<style scoped>\n",
       "    .dataframe tbody tr th:only-of-type {\n",
       "        vertical-align: middle;\n",
       "    }\n",
       "\n",
       "    .dataframe tbody tr th {\n",
       "        vertical-align: top;\n",
       "    }\n",
       "\n",
       "    .dataframe thead th {\n",
       "        text-align: right;\n",
       "    }\n",
       "</style>\n",
       "<table border=\"1\" class=\"dataframe\">\n",
       "  <thead>\n",
       "    <tr style=\"text-align: right;\">\n",
       "      <th></th>\n",
       "      <th>OrderID</th>\n",
       "      <th>total_quantity</th>\n",
       "      <th>unique_producs</th>\n",
       "    </tr>\n",
       "  </thead>\n",
       "  <tbody>\n",
       "    <tr>\n",
       "      <th>0</th>\n",
       "      <td>10248</td>\n",
       "      <td>27</td>\n",
       "      <td>3</td>\n",
       "    </tr>\n",
       "    <tr>\n",
       "      <th>1</th>\n",
       "      <td>10249</td>\n",
       "      <td>49</td>\n",
       "      <td>2</td>\n",
       "    </tr>\n",
       "    <tr>\n",
       "      <th>2</th>\n",
       "      <td>10250</td>\n",
       "      <td>60</td>\n",
       "      <td>3</td>\n",
       "    </tr>\n",
       "    <tr>\n",
       "      <th>3</th>\n",
       "      <td>10251</td>\n",
       "      <td>41</td>\n",
       "      <td>3</td>\n",
       "    </tr>\n",
       "    <tr>\n",
       "      <th>4</th>\n",
       "      <td>10252</td>\n",
       "      <td>105</td>\n",
       "      <td>3</td>\n",
       "    </tr>\n",
       "  </tbody>\n",
       "</table>\n",
       "</div>"
      ],
      "text/plain": [
       "   OrderID  total_quantity  unique_producs\n",
       "0    10248              27               3\n",
       "1    10249              49               2\n",
       "2    10250              60               3\n",
       "3    10251              41               3\n",
       "4    10252             105               3"
      ]
     },
     "execution_count": 5,
     "metadata": {},
     "output_type": "execute_result"
    }
   ],
   "source": [
    "product_summary = order_details.groupby(\n",
    "    'OrderID',\n",
    ").agg(\n",
    "    total_quantity=('Quantity', 'sum'),\n",
    "    unique_producs=('ProductID', 'nunique'),\n",
    ").reset_index()\n",
    "\n",
    "product_summary.head()"
   ]
  },
  {
   "cell_type": "markdown",
   "id": "66f2b750-b2db-4afb-a454-3541e1ce9401",
   "metadata": {},
   "source": [
    "The following code block uses the `merge` method of a `pandas` `DataFrame` to merge the `orders` and `product_summary` objects. **Note:** We use `merge` because the two `DataFrame` objects have a common column (`OrderID`). If the index values were identifcal, we would use the `join` method."
   ]
  },
  {
   "cell_type": "code",
   "execution_count": 6,
   "id": "f25f3de3-ea0f-4780-8b9d-313a453799d4",
   "metadata": {
    "tags": []
   },
   "outputs": [
    {
     "data": {
      "text/html": [
       "<div>\n",
       "<style scoped>\n",
       "    .dataframe tbody tr th:only-of-type {\n",
       "        vertical-align: middle;\n",
       "    }\n",
       "\n",
       "    .dataframe tbody tr th {\n",
       "        vertical-align: top;\n",
       "    }\n",
       "\n",
       "    .dataframe thead th {\n",
       "        text-align: right;\n",
       "    }\n",
       "</style>\n",
       "<table border=\"1\" class=\"dataframe\">\n",
       "  <thead>\n",
       "    <tr style=\"text-align: right;\">\n",
       "      <th></th>\n",
       "      <th>OrderID</th>\n",
       "      <th>CustomerID</th>\n",
       "      <th>EmployeeID</th>\n",
       "      <th>OrderDate</th>\n",
       "      <th>RequiredDate</th>\n",
       "      <th>ShippedDate</th>\n",
       "      <th>ShipVia</th>\n",
       "      <th>Freight</th>\n",
       "      <th>ShipName</th>\n",
       "      <th>ShipAddress</th>\n",
       "      <th>ShipCity</th>\n",
       "      <th>ShipRegion</th>\n",
       "      <th>ShipPostalCode</th>\n",
       "      <th>ShipCountry</th>\n",
       "      <th>total_quantity</th>\n",
       "      <th>unique_producs</th>\n",
       "    </tr>\n",
       "  </thead>\n",
       "  <tbody>\n",
       "    <tr>\n",
       "      <th>0</th>\n",
       "      <td>10248</td>\n",
       "      <td>VINET</td>\n",
       "      <td>5</td>\n",
       "      <td>2016-07-04</td>\n",
       "      <td>2016-08-01</td>\n",
       "      <td>2016-07-16</td>\n",
       "      <td>3</td>\n",
       "      <td>32.38</td>\n",
       "      <td>Vins et alcools Chevalier</td>\n",
       "      <td>59 rue de l-Abbaye</td>\n",
       "      <td>Reims</td>\n",
       "      <td>Western Europe</td>\n",
       "      <td>51100</td>\n",
       "      <td>France</td>\n",
       "      <td>27</td>\n",
       "      <td>3</td>\n",
       "    </tr>\n",
       "    <tr>\n",
       "      <th>1</th>\n",
       "      <td>10249</td>\n",
       "      <td>TOMSP</td>\n",
       "      <td>6</td>\n",
       "      <td>2016-07-05</td>\n",
       "      <td>2016-08-16</td>\n",
       "      <td>2016-07-10</td>\n",
       "      <td>1</td>\n",
       "      <td>11.61</td>\n",
       "      <td>Toms Spezialitäten</td>\n",
       "      <td>Luisenstr. 48</td>\n",
       "      <td>Münster</td>\n",
       "      <td>Western Europe</td>\n",
       "      <td>44087</td>\n",
       "      <td>Germany</td>\n",
       "      <td>49</td>\n",
       "      <td>2</td>\n",
       "    </tr>\n",
       "    <tr>\n",
       "      <th>2</th>\n",
       "      <td>10250</td>\n",
       "      <td>HANAR</td>\n",
       "      <td>4</td>\n",
       "      <td>2016-07-08</td>\n",
       "      <td>2016-08-05</td>\n",
       "      <td>2016-07-12</td>\n",
       "      <td>2</td>\n",
       "      <td>65.83</td>\n",
       "      <td>Hanari Carnes</td>\n",
       "      <td>Rua do Paço, 67</td>\n",
       "      <td>Rio de Janeiro</td>\n",
       "      <td>South America</td>\n",
       "      <td>05454-876</td>\n",
       "      <td>Brazil</td>\n",
       "      <td>60</td>\n",
       "      <td>3</td>\n",
       "    </tr>\n",
       "    <tr>\n",
       "      <th>3</th>\n",
       "      <td>10251</td>\n",
       "      <td>VICTE</td>\n",
       "      <td>3</td>\n",
       "      <td>2016-07-08</td>\n",
       "      <td>2016-08-05</td>\n",
       "      <td>2016-07-15</td>\n",
       "      <td>1</td>\n",
       "      <td>41.34</td>\n",
       "      <td>Victuailles en stock</td>\n",
       "      <td>2, rue du Commerce</td>\n",
       "      <td>Lyon</td>\n",
       "      <td>Western Europe</td>\n",
       "      <td>69004</td>\n",
       "      <td>France</td>\n",
       "      <td>41</td>\n",
       "      <td>3</td>\n",
       "    </tr>\n",
       "    <tr>\n",
       "      <th>4</th>\n",
       "      <td>10252</td>\n",
       "      <td>SUPRD</td>\n",
       "      <td>4</td>\n",
       "      <td>2016-07-09</td>\n",
       "      <td>2016-08-06</td>\n",
       "      <td>2016-07-11</td>\n",
       "      <td>2</td>\n",
       "      <td>51.30</td>\n",
       "      <td>Suprêmes délices</td>\n",
       "      <td>Boulevard Tirou, 255</td>\n",
       "      <td>Charleroi</td>\n",
       "      <td>Western Europe</td>\n",
       "      <td>B-6000</td>\n",
       "      <td>Belgium</td>\n",
       "      <td>105</td>\n",
       "      <td>3</td>\n",
       "    </tr>\n",
       "  </tbody>\n",
       "</table>\n",
       "</div>"
      ],
      "text/plain": [
       "   OrderID CustomerID  EmployeeID   OrderDate RequiredDate ShippedDate   \n",
       "0    10248      VINET           5  2016-07-04   2016-08-01  2016-07-16  \\\n",
       "1    10249      TOMSP           6  2016-07-05   2016-08-16  2016-07-10   \n",
       "2    10250      HANAR           4  2016-07-08   2016-08-05  2016-07-12   \n",
       "3    10251      VICTE           3  2016-07-08   2016-08-05  2016-07-15   \n",
       "4    10252      SUPRD           4  2016-07-09   2016-08-06  2016-07-11   \n",
       "\n",
       "   ShipVia  Freight                   ShipName           ShipAddress   \n",
       "0        3    32.38  Vins et alcools Chevalier    59 rue de l-Abbaye  \\\n",
       "1        1    11.61         Toms Spezialitäten         Luisenstr. 48   \n",
       "2        2    65.83              Hanari Carnes       Rua do Paço, 67   \n",
       "3        1    41.34       Victuailles en stock    2, rue du Commerce   \n",
       "4        2    51.30           Suprêmes délices  Boulevard Tirou, 255   \n",
       "\n",
       "         ShipCity      ShipRegion ShipPostalCode ShipCountry  total_quantity   \n",
       "0           Reims  Western Europe          51100      France              27  \\\n",
       "1         Münster  Western Europe          44087     Germany              49   \n",
       "2  Rio de Janeiro   South America      05454-876      Brazil              60   \n",
       "3            Lyon  Western Europe          69004      France              41   \n",
       "4       Charleroi  Western Europe         B-6000     Belgium             105   \n",
       "\n",
       "   unique_producs  \n",
       "0               3  \n",
       "1               2  \n",
       "2               3  \n",
       "3               3  \n",
       "4               3  "
      ]
     },
     "execution_count": 6,
     "metadata": {},
     "output_type": "execute_result"
    }
   ],
   "source": [
    "orders = orders.merge(product_summary)\n",
    "orders.head()"
   ]
  },
  {
   "cell_type": "markdown",
   "id": "f098a0c8-42f5-471f-a375-01b07539b9ce",
   "metadata": {},
   "source": [
    "Soon, we will be looking into things that are predictive of late orders. With the information we are given in the `orders` data, we know an order was late if the date in the `ShippedDate` column is later than that in the `RequiredDate` column. The following code block converts the values in these columns to `datetime64` objetcs."
   ]
  },
  {
   "cell_type": "code",
   "execution_count": 7,
   "id": "501dcfa7-6f12-40e9-b7fd-daab7517344f",
   "metadata": {
    "tags": []
   },
   "outputs": [],
   "source": [
    "orders['RequiredDate'] = pd.to_datetime(orders['RequiredDate'])\n",
    "orders['ShippedDate'] = pd.to_datetime(orders['ShippedDate'])"
   ]
  },
  {
   "cell_type": "markdown",
   "id": "3b8adf04-511b-4fa0-ac35-6266c23978db",
   "metadata": {},
   "source": [
    "Printing the dtypes confirms the conversion worked."
   ]
  },
  {
   "cell_type": "code",
   "execution_count": 8,
   "id": "e52f9349-fcac-4487-ba97-ac75f127e037",
   "metadata": {
    "tags": []
   },
   "outputs": [
    {
     "data": {
      "text/plain": [
       "OrderID                    int64\n",
       "CustomerID                object\n",
       "EmployeeID                 int64\n",
       "OrderDate                 object\n",
       "RequiredDate      datetime64[ns]\n",
       "ShippedDate       datetime64[ns]\n",
       "ShipVia                    int64\n",
       "Freight                  float64\n",
       "ShipName                  object\n",
       "ShipAddress               object\n",
       "ShipCity                  object\n",
       "ShipRegion                object\n",
       "ShipPostalCode            object\n",
       "ShipCountry               object\n",
       "total_quantity             int64\n",
       "unique_producs             int64\n",
       "dtype: object"
      ]
     },
     "execution_count": 8,
     "metadata": {},
     "output_type": "execute_result"
    }
   ],
   "source": [
    "orders.dtypes"
   ]
  },
  {
   "cell_type": "markdown",
   "id": "44a909cf-6ab4-493c-8d91-1b89636aa4ba",
   "metadata": {},
   "source": [
    "The following code block adds a column to the `orders` `DataFrame` that specifies whether orders are late (1) or not (0). Note that our definition of late is that an order ships after the date specified in the `RequiredDate` column. We don't have delivery date information, so this is the best we can do."
   ]
  },
  {
   "cell_type": "code",
   "execution_count": 9,
   "id": "9f0dfce3-c866-4621-a1da-fd211af7c8fe",
   "metadata": {
    "tags": []
   },
   "outputs": [],
   "source": [
    "late_mask = orders['ShippedDate'] > orders['RequiredDate']\n",
    "orders['late'] = late_mask.astype(int)"
   ]
  },
  {
   "cell_type": "markdown",
   "id": "11f956e8-5114-478b-afc4-355cbe947ee5",
   "metadata": {},
   "source": [
    "The following code block creates a new column in the `orders` `DataFrame` that captures the number of days that an order ships before the required date. Positive values indicate that an order was shipped before the required date and negative values indicate that an order shipped after the required date."
   ]
  },
  {
   "cell_type": "code",
   "execution_count": 10,
   "id": "a68421dc-7598-449d-9468-59a15eb3a58d",
   "metadata": {
    "tags": []
   },
   "outputs": [],
   "source": [
    "shipped_before_due = orders['RequiredDate'] - orders['ShippedDate']\n",
    "orders['shipped_before_due'] = shipped_before_due/pd.Timedelta(days=1)"
   ]
  },
  {
   "cell_type": "markdown",
   "id": "6cb86e1b-dcd2-4d06-9cec-46cd864fe712",
   "metadata": {},
   "source": [
    "The following code block shows how we can use `matplotlib` and `pandas` to plot a histogram of the data in the `shipped_before_due` column."
   ]
  },
  {
   "cell_type": "code",
   "execution_count": 11,
   "id": "c29aeb3c-2997-4f96-b2a6-6c9fc6e558c0",
   "metadata": {
    "tags": []
   },
   "outputs": [
    {
     "data": {
      "image/png": "[encoded data removed]",
      "text/plain": [
       "<Figure size 500x300 with 1 Axes>"
      ]
     },
     "metadata": {},
     "output_type": "display_data"
    }
   ],
   "source": [
    "fig, nicks_ax = plt.subplots(1, 1, figsize=(5, 3))\n",
    "\n",
    "orders['shipped_before_due'].plot(\n",
    "    kind='hist',\n",
    "    edgecolor='k',\n",
    "    density=True,\n",
    "    bins=range(-23, 42),\n",
    "    ax=nicks_ax,\n",
    ")\n",
    "nicks_ax.spines[['top', 'right']].set_visible(False)\n",
    "nicks_ax.set_xlabel('Shipped before Required')\n",
    "\n",
    "plt.show()"
   ]
  },
  {
   "cell_type": "markdown",
   "id": "a03a85da-ff88-4377-9f3c-d509bc6560eb",
   "metadata": {},
   "source": [
    "The following code block shows how we can use `matplotlib` and `pandas` to plot a barplot that shows the proportion of late items by the number of unique products composing an order."
   ]
  },
  {
   "cell_type": "code",
   "execution_count": 12,
   "id": "71508ff4-7263-464c-aebd-14c38f005fe6",
   "metadata": {
    "tags": []
   },
   "outputs": [
    {
     "data": {
      "image/png": "[encoded data removed]",
      "text/plain": [
       "<Figure size 600x300 with 1 Axes>"
      ]
     },
     "metadata": {},
     "output_type": "display_data"
    }
   ],
   "source": [
    "fig, nicks_ax2 = plt.subplots(1, 1, figsize=(6, 3))\n",
    "\n",
    "orders.groupby('unique_producs').agg(\n",
    "    proportion_late=('late', 'mean')\n",
    ").plot(\n",
    "    kind='bar',\n",
    "    y='proportion_late',\n",
    "    edgecolor='k',\n",
    "    ax=nicks_ax2,\n",
    ")\n",
    "nicks_ax2.spines[['top', 'right']].set_visible(False)\n",
    "\n",
    "plt.show()"
   ]
  },
  {
   "cell_type": "markdown",
   "id": "a0d0d8b6-763a-444d-8b5d-6127ce978478",
   "metadata": {},
   "source": [
    "The following code block combines the previous two plots into a single figure (1 row, 2 columns). Note that the axes object returned here is a `numpy` `array`, so I have to index the array for each subplot to place them on the correct axis."
   ]
  },
  {
   "cell_type": "code",
   "execution_count": 13,
   "id": "99ff0152-545c-4fcf-9213-8f2f58b7b647",
   "metadata": {
    "tags": []
   },
   "outputs": [
    {
     "data": {
      "image/png": "[encoded data removed]",
      "text/plain": [
       "<Figure size 1000x400 with 2 Axes>"
      ]
     },
     "metadata": {},
     "output_type": "display_data"
    }
   ],
   "source": [
    "fig, nicks_ax = plt.subplots(1, 2, figsize=(10, 4))\n",
    "\n",
    "orders.groupby('unique_producs').agg(\n",
    "    proportion_late=('late', 'mean')\n",
    ").plot(\n",
    "    kind='bar',\n",
    "    y='proportion_late',\n",
    "    edgecolor='k',\n",
    "    ax=nicks_ax[0],\n",
    ")\n",
    "nicks_ax[0].spines[['top', 'right']].set_visible(False)\n",
    "\n",
    "\n",
    "orders['shipped_before_due'].plot(\n",
    "    kind='hist',\n",
    "    edgecolor='k',\n",
    "    density=True,\n",
    "    bins=range(-23, 42),\n",
    "    ax=nicks_ax[1],\n",
    ")\n",
    "nicks_ax[1].spines[['top', 'right']].set_visible(False)\n",
    "nicks_ax[1].set_xlabel('Shipped before Required')\n",
    "\n",
    "plt.show()"
   ]
  },
  {
   "cell_type": "markdown",
   "id": "d0e4203e-be49-4ba0-8d2d-d7292dacedd0",
   "metadata": {},
   "source": [
    "The following code block expands the previous figure to include a new row. Now our figure is setup for 2 rows and 2 columns. As a result, axes object returned here is a `numpy` `array` of dimension 2 x 2. So, when specifiying the axis for a specific plot, I have to include both a row index and a column index."
   ]
  },
  {
   "cell_type": "code",
   "execution_count": 14,
   "id": "58cef6a6-f14f-4d83-bd36-9fdcc32ff92b",
   "metadata": {
    "tags": []
   },
   "outputs": [
    {
     "data": {
      "image/png": "[encoded data removed]",
      "text/plain": [
       "<Figure size 1000x800 with 4 Axes>"
      ]
     },
     "metadata": {},
     "output_type": "display_data"
    }
   ],
   "source": [
    "fig, nicks_ax = plt.subplots(2, 2, figsize=(10, 8))\n",
    "\n",
    "orders.groupby('unique_producs').agg(\n",
    "    proportion_late=('late', 'mean')\n",
    ").plot(\n",
    "    kind='bar',\n",
    "    y='proportion_late',\n",
    "    edgecolor='k',\n",
    "    ax=nicks_ax[0, 0],\n",
    ")\n",
    "nicks_ax[0, 0].spines[['top', 'right']].set_visible(False)\n",
    "\n",
    "\n",
    "orders['shipped_before_due'].plot(\n",
    "    kind='hist',\n",
    "    edgecolor='k',\n",
    "    density=True,\n",
    "    bins=range(-23, 42),\n",
    "    ax=nicks_ax[0, 1],\n",
    ")\n",
    "nicks_ax[0, 1].spines[['top', 'right']].set_visible(False)\n",
    "nicks_ax[0, 1].set_xlabel('Shipped before Required')\n",
    "\n",
    "orders['shipped_before_due'].plot(\n",
    "    kind='box',\n",
    "    x='shipped_before_due',\n",
    "    ax=nicks_ax[1, 0],\n",
    ")\n",
    "nicks_ax[1, 0].spines[['top', 'right']].set_visible(False)\n",
    "nicks_ax[1, 0].set_xlabel('Shipped before Required')\n",
    "\n",
    "nicks_ax[1, 1].axis('off')\n",
    "\n",
    "fig.suptitle('These are my plots')\n",
    "\n",
    "plt.show()"
   ]
  }
 ],
 "metadata": {
  "kernelspec": {
   "display_name": "Python 3 (ipykernel)",
   "language": "python",
   "name": "python3"
  },
  "language_info": {
   "codemirror_mode": {
    "name": "ipython",
    "version": 3
   },
   "file_extension": ".py",
   "mimetype": "text/x-python",
   "name": "python",
   "nbconvert_exporter": "python",
   "pygments_lexer": "ipython3",
   "version": "3.10.11"
  }
 },
 "nbformat": 4,
 "nbformat_minor": 5
}
