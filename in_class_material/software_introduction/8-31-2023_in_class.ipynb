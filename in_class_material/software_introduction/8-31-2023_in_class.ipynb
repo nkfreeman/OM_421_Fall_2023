{
 "cells": [
  {
   "cell_type": "markdown",
   "id": "84977bfc-ec32-4d22-95d1-73369f0abdde",
   "metadata": {},
   "source": [
    "#### Imports"
   ]
  },
  {
   "cell_type": "code",
   "execution_count": null,
   "id": "ee959c1b-4fd2-40ed-90bb-c0c11013f558",
   "metadata": {
    "tags": []
   },
   "outputs": [],
   "source": [
    "import matplotlib.pyplot as plt\n",
    "import pandas as pd"
   ]
  },
  {
   "cell_type": "markdown",
   "id": "e70e6968-6486-43ab-a690-8d1b9c312134",
   "metadata": {},
   "source": [
    "#### Read data"
   ]
  },
  {
   "cell_type": "code",
   "execution_count": null,
   "id": "f4a3fd38-377c-42cf-8314-a2ec89367d0d",
   "metadata": {
    "tags": []
   },
   "outputs": [],
   "source": [
    "data = pd.read_csv('orders.csv')"
   ]
  },
  {
   "cell_type": "markdown",
   "id": "b198dff0-89b7-478c-b7cb-fbcb0fbd4d93",
   "metadata": {},
   "source": [
    "#### Show first five rows of data"
   ]
  },
  {
   "cell_type": "code",
   "execution_count": null,
   "id": "58399f38-9293-478a-bd5d-7d6c3bbc5bee",
   "metadata": {},
   "outputs": [],
   "source": [
    "data.head()"
   ]
  },
  {
   "cell_type": "markdown",
   "id": "2d41df0a-608b-4c26-bd28-6d2e7084bba3",
   "metadata": {},
   "source": [
    "#### Plot distribution of freight for South America and `ShipVia` method 3."
   ]
  },
  {
   "cell_type": "code",
   "execution_count": null,
   "id": "69776458-82ba-41d8-9d66-1602c6491d24",
   "metadata": {
    "tags": []
   },
   "outputs": [],
   "source": [
    "ship_region_mask = (data['ShipRegion'] == 'South America')\n",
    "ship_via_mask = (data['ShipVia'] == 3)\n",
    "combined_mask = ship_region_mask & ship_via_mask\n",
    "freight_data = data.loc[combined_mask, 'Freight']\n",
    "\n",
    "freight_data.plot(kind='hist', bins=10, edgecolor='k')"
   ]
  }
 ],
 "metadata": {
  "kernelspec": {
   "display_name": "Python 3 (ipykernel)",
   "language": "python",
   "name": "python3"
  },
  "language_info": {
   "codemirror_mode": {
    "name": "ipython",
    "version": 3
   },
   "file_extension": ".py",
   "mimetype": "text/x-python",
   "name": "python",
   "nbconvert_exporter": "python",
   "pygments_lexer": "ipython3",
   "version": "3.10.12"
  }
 },
 "nbformat": 4,
 "nbformat_minor": 5
}
