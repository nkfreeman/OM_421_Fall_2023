{
 "cells": [
  {
   "cell_type": "markdown",
   "id": "84977bfc-ec32-4d22-95d1-73369f0abdde",
   "metadata": {},
   "source": [
    "#### Imports"
   ]
  },
  {
   "cell_type": "code",
   "execution_count": 1,
   "id": "ee959c1b-4fd2-40ed-90bb-c0c11013f558",
   "metadata": {
    "tags": []
   },
   "outputs": [],
   "source": [
    "import pathlib\n",
    "\n",
    "import matplotlib.pyplot as plt\n",
    "import pandas as pd"
   ]
  },
  {
   "cell_type": "markdown",
   "id": "e70e6968-6486-43ab-a690-8d1b9c312134",
   "metadata": {},
   "source": [
    "#### Read data"
   ]
  },
  {
   "cell_type": "code",
   "execution_count": 2,
   "id": "f4a3fd38-377c-42cf-8314-a2ec89367d0d",
   "metadata": {
    "tags": []
   },
   "outputs": [],
   "source": [
    "data = pd.read_csv('orders.csv')"
   ]
  },
  {
   "cell_type": "markdown",
   "id": "b198dff0-89b7-478c-b7cb-fbcb0fbd4d93",
   "metadata": {},
   "source": [
    "#### Show first five rows of data"
   ]
  },
  {
   "cell_type": "code",
   "execution_count": 3,
   "id": "58399f38-9293-478a-bd5d-7d6c3bbc5bee",
   "metadata": {
    "tags": []
   },
   "outputs": [
    {
     "data": {
      "text/html": [
       "<div>\n",
       "<style scoped>\n",
       "    .dataframe tbody tr th:only-of-type {\n",
       "        vertical-align: middle;\n",
       "    }\n",
       "\n",
       "    .dataframe tbody tr th {\n",
       "        vertical-align: top;\n",
       "    }\n",
       "\n",
       "    .dataframe thead th {\n",
       "        text-align: right;\n",
       "    }\n",
       "</style>\n",
       "<table border=\"1\" class=\"dataframe\">\n",
       "  <thead>\n",
       "    <tr style=\"text-align: right;\">\n",
       "      <th></th>\n",
       "      <th>OrderID</th>\n",
       "      <th>CustomerID</th>\n",
       "      <th>EmployeeID</th>\n",
       "      <th>OrderDate</th>\n",
       "      <th>RequiredDate</th>\n",
       "      <th>ShippedDate</th>\n",
       "      <th>ShipVia</th>\n",
       "      <th>Freight</th>\n",
       "      <th>ShipName</th>\n",
       "      <th>ShipAddress</th>\n",
       "      <th>ShipCity</th>\n",
       "      <th>ShipRegion</th>\n",
       "      <th>ShipPostalCode</th>\n",
       "      <th>ShipCountry</th>\n",
       "    </tr>\n",
       "  </thead>\n",
       "  <tbody>\n",
       "    <tr>\n",
       "      <th>0</th>\n",
       "      <td>10248</td>\n",
       "      <td>VINET</td>\n",
       "      <td>5</td>\n",
       "      <td>2016-07-04</td>\n",
       "      <td>2016-08-01</td>\n",
       "      <td>2016-07-16</td>\n",
       "      <td>3</td>\n",
       "      <td>32.38</td>\n",
       "      <td>Vins et alcools Chevalier</td>\n",
       "      <td>59 rue de l-Abbaye</td>\n",
       "      <td>Reims</td>\n",
       "      <td>Western Europe</td>\n",
       "      <td>51100</td>\n",
       "      <td>France</td>\n",
       "    </tr>\n",
       "    <tr>\n",
       "      <th>1</th>\n",
       "      <td>10249</td>\n",
       "      <td>TOMSP</td>\n",
       "      <td>6</td>\n",
       "      <td>2016-07-05</td>\n",
       "      <td>2016-08-16</td>\n",
       "      <td>2016-07-10</td>\n",
       "      <td>1</td>\n",
       "      <td>11.61</td>\n",
       "      <td>Toms Spezialitäten</td>\n",
       "      <td>Luisenstr. 48</td>\n",
       "      <td>Münster</td>\n",
       "      <td>Western Europe</td>\n",
       "      <td>44087</td>\n",
       "      <td>Germany</td>\n",
       "    </tr>\n",
       "    <tr>\n",
       "      <th>2</th>\n",
       "      <td>10250</td>\n",
       "      <td>HANAR</td>\n",
       "      <td>4</td>\n",
       "      <td>2016-07-08</td>\n",
       "      <td>2016-08-05</td>\n",
       "      <td>2016-07-12</td>\n",
       "      <td>2</td>\n",
       "      <td>65.83</td>\n",
       "      <td>Hanari Carnes</td>\n",
       "      <td>Rua do Paço, 67</td>\n",
       "      <td>Rio de Janeiro</td>\n",
       "      <td>South America</td>\n",
       "      <td>05454-876</td>\n",
       "      <td>Brazil</td>\n",
       "    </tr>\n",
       "    <tr>\n",
       "      <th>3</th>\n",
       "      <td>10251</td>\n",
       "      <td>VICTE</td>\n",
       "      <td>3</td>\n",
       "      <td>2016-07-08</td>\n",
       "      <td>2016-08-05</td>\n",
       "      <td>2016-07-15</td>\n",
       "      <td>1</td>\n",
       "      <td>41.34</td>\n",
       "      <td>Victuailles en stock</td>\n",
       "      <td>2, rue du Commerce</td>\n",
       "      <td>Lyon</td>\n",
       "      <td>Western Europe</td>\n",
       "      <td>69004</td>\n",
       "      <td>France</td>\n",
       "    </tr>\n",
       "    <tr>\n",
       "      <th>4</th>\n",
       "      <td>10252</td>\n",
       "      <td>SUPRD</td>\n",
       "      <td>4</td>\n",
       "      <td>2016-07-09</td>\n",
       "      <td>2016-08-06</td>\n",
       "      <td>2016-07-11</td>\n",
       "      <td>2</td>\n",
       "      <td>51.30</td>\n",
       "      <td>Suprêmes délices</td>\n",
       "      <td>Boulevard Tirou, 255</td>\n",
       "      <td>Charleroi</td>\n",
       "      <td>Western Europe</td>\n",
       "      <td>B-6000</td>\n",
       "      <td>Belgium</td>\n",
       "    </tr>\n",
       "  </tbody>\n",
       "</table>\n",
       "</div>"
      ],
      "text/plain": [
       "   OrderID CustomerID  EmployeeID   OrderDate RequiredDate ShippedDate   \n",
       "0    10248      VINET           5  2016-07-04   2016-08-01  2016-07-16  \\\n",
       "1    10249      TOMSP           6  2016-07-05   2016-08-16  2016-07-10   \n",
       "2    10250      HANAR           4  2016-07-08   2016-08-05  2016-07-12   \n",
       "3    10251      VICTE           3  2016-07-08   2016-08-05  2016-07-15   \n",
       "4    10252      SUPRD           4  2016-07-09   2016-08-06  2016-07-11   \n",
       "\n",
       "   ShipVia  Freight                   ShipName           ShipAddress   \n",
       "0        3    32.38  Vins et alcools Chevalier    59 rue de l-Abbaye  \\\n",
       "1        1    11.61         Toms Spezialitäten         Luisenstr. 48   \n",
       "2        2    65.83              Hanari Carnes       Rua do Paço, 67   \n",
       "3        1    41.34       Victuailles en stock    2, rue du Commerce   \n",
       "4        2    51.30           Suprêmes délices  Boulevard Tirou, 255   \n",
       "\n",
       "         ShipCity      ShipRegion ShipPostalCode ShipCountry  \n",
       "0           Reims  Western Europe          51100      France  \n",
       "1         Münster  Western Europe          44087     Germany  \n",
       "2  Rio de Janeiro   South America      05454-876      Brazil  \n",
       "3            Lyon  Western Europe          69004      France  \n",
       "4       Charleroi  Western Europe         B-6000     Belgium  "
      ]
     },
     "execution_count": 3,
     "metadata": {},
     "output_type": "execute_result"
    }
   ],
   "source": [
    "data.head()"
   ]
  },
  {
   "cell_type": "markdown",
   "id": "2d41df0a-608b-4c26-bd28-6d2e7084bba3",
   "metadata": {},
   "source": [
    "#### Plot distribution of freight for South America and `ShipVia` method 3."
   ]
  },
  {
   "cell_type": "code",
   "execution_count": 4,
   "id": "69776458-82ba-41d8-9d66-1602c6491d24",
   "metadata": {
    "tags": []
   },
   "outputs": [
    {
     "data": {
      "text/plain": [
       "<Axes: ylabel='Frequency'>"
      ]
     },
     "execution_count": 4,
     "metadata": {},
     "output_type": "execute_result"
    },
    {
     "data": {
      "image/png": "[encoded data removed]",
      "text/plain": [
       "<Figure size 640x480 with 1 Axes>"
      ]
     },
     "metadata": {},
     "output_type": "display_data"
    }
   ],
   "source": [
    "ship_region_mask = (data['ShipRegion'] == 'South America')\n",
    "ship_via_mask = (data['ShipVia'] == 3)\n",
    "combined_mask = ship_region_mask & ship_via_mask\n",
    "freight_data = data.loc[combined_mask, 'Freight']\n",
    "\n",
    "freight_data.plot(kind='hist', bins=10, edgecolor='k')"
   ]
  },
  {
   "cell_type": "markdown",
   "id": "e525f061-eb52-453f-b0b8-713b60bf1b6c",
   "metadata": {},
   "source": [
    "#### Goal: We want to construct an automated procedure for plotting the distribution of `ShipVia`usage by `ShipRegion`"
   ]
  },
  {
   "cell_type": "code",
   "execution_count": 5,
   "id": "753afd56-ea2e-4646-ade0-fd13ff27afe5",
   "metadata": {},
   "outputs": [
    {
     "name": "stdout",
     "output_type": "stream",
     "text": [
      " - Skipping Western Europe\n",
      " - Skipping South America\n",
      " - Skipping Central America\n",
      " - Skipping North America\n",
      " - Skipping Northern Europe\n",
      " - Skipping Scandinavia\n",
      " - Skipping Southern Europe\n",
      " - Skipping British Isles\n",
      " - Skipping Eastern Europe\n"
     ]
    }
   ],
   "source": [
    "plots_directory = pathlib.Path('plots')\n",
    "plots_directory.mkdir(exist_ok=True)\n",
    "\n",
    "for ship_region in data['ShipRegion'].unique():\n",
    "    \n",
    "    plot_filepath = pathlib.Path(plots_directory, f'{ship_region}.pdf')\n",
    "    if not plot_filepath.exists():\n",
    "        region_mask = data['ShipRegion'] == ship_region\n",
    "        region_data = data[region_mask].copy()\n",
    "        ship_via_counts = region_data.groupby('ShipVia')['OrderID'].count()\n",
    "\n",
    "        fig, ax = plt.subplots(1, 1, figsize=(5, 3))\n",
    "\n",
    "        region_plot = ship_via_counts.plot(\n",
    "            kind='bar',\n",
    "            title=f'ShipVia Distribution for {ship_region}',\n",
    "            edgecolor='k',\n",
    "            ax=ax,\n",
    "        )\n",
    "\n",
    "        plt.savefig(plot_filepath, bbox_inches='tight')\n",
    "        plt.close()\n",
    "    else:\n",
    "        print(f' - Skipping {ship_region}')"
   ]
  },
  {
   "cell_type": "code",
   "execution_count": null,
   "id": "b6d2eeb3-8f98-4b6f-bc1e-138bb54873c3",
   "metadata": {
    "tags": []
   },
   "outputs": [],
   "source": []
  },
  {
   "cell_type": "code",
   "execution_count": null,
   "id": "f7b02fab-1609-494d-8aa2-4a98487ecb3c",
   "metadata": {},
   "outputs": [],
   "source": []
  }
 ],
 "metadata": {
  "kernelspec": {
   "display_name": "Python 3 (ipykernel)",
   "language": "python",
   "name": "python3"
  },
  "language_info": {
   "codemirror_mode": {
    "name": "ipython",
    "version": 3
   },
   "file_extension": ".py",
   "mimetype": "text/x-python",
   "name": "python",
   "nbconvert_exporter": "python",
   "pygments_lexer": "ipython3",
   "version": "3.10.11"
  }
 },
 "nbformat": 4,
 "nbformat_minor": 5
}
