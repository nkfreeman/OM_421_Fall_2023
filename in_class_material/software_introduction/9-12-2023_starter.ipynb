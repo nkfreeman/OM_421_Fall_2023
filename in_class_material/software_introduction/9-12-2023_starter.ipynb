{
 "cells": [
  {
   "cell_type": "markdown",
   "id": "482320d1-04fb-47b4-9870-ad63b4e4282d",
   "metadata": {
    "tags": []
   },
   "source": [
    "The following code block imports some of the libraries we will be using."
   ]
  },
  {
   "cell_type": "code",
   "execution_count": null,
   "id": "2df9c5e0-0ff6-46d7-8afa-13a8f55add82",
   "metadata": {
    "tags": []
   },
   "outputs": [],
   "source": [
    "import pathlib\n",
    "import sqlite3\n",
    "\n",
    "import matplotlib.pyplot as plt\n",
    "import pandas as pd\n",
    "import seaborn as sns"
   ]
  },
  {
   "cell_type": "markdown",
   "id": "2ce6a5d3-4239-4418-be3f-771a77e2467a",
   "metadata": {},
   "source": [
    "The following code block reads data from the *Orders*, *Order Details*, and *Products* tables in the *northwind.db* database. The various data is used to create an modified version of the order data, which is eventually stored in the `orders` variable, that includes information that may be useful in investigating patterns in late orders."
   ]
  },
  {
   "cell_type": "code",
   "execution_count": null,
   "id": "5c9a3749-afab-4f7f-af53-201ad33aa8a1",
   "metadata": {
    "tags": []
   },
   "outputs": [],
   "source": [
    "# Read select tables from database\n",
    "with sqlite3.Connection('northwind.db') as conn:\n",
    "    orders = pd.read_sql('SELECT * FROM Orders', conn)\n",
    "    order_details = pd.read_sql('SELECT * FROM \"Order Details\"', conn)\n",
    "    products = pd.read_sql('SELECT ProductID, ProductName, SupplierID, CategoryID FROM Products', conn)\n",
    "    \n",
    "order_details = order_details.merge(products, how='left')\n",
    "\n",
    "# Get summary from order details data\n",
    "order_detail_summary = order_details.groupby(\n",
    "    'OrderID'\n",
    ").agg(\n",
    "    unique_products=('ProductID', 'nunique'),\n",
    "    total_quantity=('Quantity', 'sum'),\n",
    "    unique_suppliers=('SupplierID', 'nunique'),\n",
    ").reset_index()\n",
    "\n",
    "orders = orders.merge(order_detail_summary, how='left')\n",
    "\n",
    "# Convert date columns to datetime formats\n",
    "orders['OrderDate'] = pd.to_datetime(orders['OrderDate'])\n",
    "orders['RequiredDate'] = pd.to_datetime(orders['RequiredDate'])\n",
    "orders['ShippedDate'] = pd.to_datetime(orders['ShippedDate'])\n",
    "\n",
    "# Limit columns to subset\n",
    "columns_to_keep = [\n",
    "    'OrderID', \n",
    "    'CustomerID', \n",
    "    'EmployeeID', \n",
    "    'OrderDate', \n",
    "    'RequiredDate',\n",
    "    'ShippedDate', \n",
    "    'ShipVia', \n",
    "    'ShipCity', \n",
    "    'ShipCountry',\n",
    "    'ShipRegion', \n",
    "    'unique_products', \n",
    "    'total_quantity', \n",
    "    'unique_suppliers'\n",
    "]\n",
    "orders = orders[columns_to_keep]\n",
    "\n",
    "# Create date-based columns\n",
    "orders['order_to_ship_days'] = (orders['ShippedDate'] - orders['OrderDate'])/pd.Timedelta(days=1)\n",
    "orders['order_to_required_days'] = (orders['RequiredDate'] - orders['OrderDate'])/pd.Timedelta(days=1)\n",
    "orders['lateness'] = (orders['ShippedDate'] - orders['RequiredDate'])/pd.Timedelta(days=1)\n",
    "orders['late'] = (orders['lateness'] > 0).astype(int)"
   ]
  },
  {
   "cell_type": "markdown",
   "id": "d78d93f0-f4dd-4f1f-bd6d-44ebdf25e4c5",
   "metadata": {},
   "source": [
    "The following code block prints the first five rows of the `orders` object."
   ]
  },
  {
   "cell_type": "code",
   "execution_count": null,
   "id": "03660b1c-5773-48de-a25a-fd5ca7c74a37",
   "metadata": {
    "tags": []
   },
   "outputs": [],
   "source": [
    "orders.head()"
   ]
  }
 ],
 "metadata": {
  "kernelspec": {
   "display_name": "Python 3 (ipykernel)",
   "language": "python",
   "name": "python3"
  },
  "language_info": {
   "codemirror_mode": {
    "name": "ipython",
    "version": 3
   },
   "file_extension": ".py",
   "mimetype": "text/x-python",
   "name": "python",
   "nbconvert_exporter": "python",
   "pygments_lexer": "ipython3",
   "version": "3.10.11"
  }
 },
 "nbformat": 4,
 "nbformat_minor": 5
}
