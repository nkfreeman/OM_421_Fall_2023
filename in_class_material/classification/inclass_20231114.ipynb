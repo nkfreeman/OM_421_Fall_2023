{
 "cells": [
  {
   "cell_type": "markdown",
   "id": "ce4b62e5-57e5-4bd5-8fb8-fd83053949ae",
   "metadata": {},
   "source": [
    "Imports"
   ]
  },
  {
   "cell_type": "code",
   "execution_count": 1,
   "id": "ba92141e-90ef-496d-8c0a-ebae3fd6c2a7",
   "metadata": {},
   "outputs": [],
   "source": [
    "import warnings\n",
    "warnings.simplefilter('ignore')\n",
    "\n",
    "import matplotlib.pyplot as plt\n",
    "import pandas as pd\n",
    "import seaborn as sns"
   ]
  },
  {
   "cell_type": "markdown",
   "id": "05039941-fa50-46a3-9ecc-24453e193caa",
   "metadata": {},
   "source": [
    "Read data"
   ]
  },
  {
   "cell_type": "code",
   "execution_count": 2,
   "id": "e640be04-bf90-4717-a7d8-34ab7afc3974",
   "metadata": {},
   "outputs": [],
   "source": [
    "data = pd.read_csv('data/Churn_Modelling.csv')"
   ]
  },
  {
   "cell_type": "markdown",
   "id": "abac0927-2550-4c06-b40c-1a63abf95357",
   "metadata": {},
   "source": [
    "Get `shape`"
   ]
  },
  {
   "cell_type": "code",
   "execution_count": 3,
   "id": "be3968e0-12c6-488b-92de-cca8985e1330",
   "metadata": {},
   "outputs": [
    {
     "data": {
      "text/plain": [
       "(10000, 14)"
      ]
     },
     "execution_count": 3,
     "metadata": {},
     "output_type": "execute_result"
    }
   ],
   "source": [
    "data.shape"
   ]
  },
  {
   "cell_type": "markdown",
   "id": "d33b515d-2d90-4e30-aef6-cc319478c05b",
   "metadata": {},
   "source": [
    "Print first five rows"
   ]
  },
  {
   "cell_type": "code",
   "execution_count": 4,
   "id": "12a51b70-bf68-4883-8648-196e56fc21a6",
   "metadata": {},
   "outputs": [
    {
     "data": {
      "text/html": [
       "<div>\n",
       "<style scoped>\n",
       "    .dataframe tbody tr th:only-of-type {\n",
       "        vertical-align: middle;\n",
       "    }\n",
       "\n",
       "    .dataframe tbody tr th {\n",
       "        vertical-align: top;\n",
       "    }\n",
       "\n",
       "    .dataframe thead th {\n",
       "        text-align: right;\n",
       "    }\n",
       "</style>\n",
       "<table border=\"1\" class=\"dataframe\">\n",
       "  <thead>\n",
       "    <tr style=\"text-align: right;\">\n",
       "      <th></th>\n",
       "      <th>RowNumber</th>\n",
       "      <th>CustomerId</th>\n",
       "      <th>Surname</th>\n",
       "      <th>CreditScore</th>\n",
       "      <th>Geography</th>\n",
       "      <th>Gender</th>\n",
       "      <th>Age</th>\n",
       "      <th>Tenure</th>\n",
       "      <th>Balance</th>\n",
       "      <th>NumOfProducts</th>\n",
       "      <th>HasCrCard</th>\n",
       "      <th>IsActiveMember</th>\n",
       "      <th>EstimatedSalary</th>\n",
       "      <th>Exited</th>\n",
       "    </tr>\n",
       "  </thead>\n",
       "  <tbody>\n",
       "    <tr>\n",
       "      <th>0</th>\n",
       "      <td>1</td>\n",
       "      <td>15634602</td>\n",
       "      <td>Hargrave</td>\n",
       "      <td>619</td>\n",
       "      <td>France</td>\n",
       "      <td>Female</td>\n",
       "      <td>42</td>\n",
       "      <td>2</td>\n",
       "      <td>0.00</td>\n",
       "      <td>1</td>\n",
       "      <td>1</td>\n",
       "      <td>1</td>\n",
       "      <td>101348.88</td>\n",
       "      <td>1</td>\n",
       "    </tr>\n",
       "    <tr>\n",
       "      <th>1</th>\n",
       "      <td>2</td>\n",
       "      <td>15647311</td>\n",
       "      <td>Hill</td>\n",
       "      <td>608</td>\n",
       "      <td>Spain</td>\n",
       "      <td>Female</td>\n",
       "      <td>41</td>\n",
       "      <td>1</td>\n",
       "      <td>83807.86</td>\n",
       "      <td>1</td>\n",
       "      <td>0</td>\n",
       "      <td>1</td>\n",
       "      <td>112542.58</td>\n",
       "      <td>0</td>\n",
       "    </tr>\n",
       "    <tr>\n",
       "      <th>2</th>\n",
       "      <td>3</td>\n",
       "      <td>15619304</td>\n",
       "      <td>Onio</td>\n",
       "      <td>502</td>\n",
       "      <td>France</td>\n",
       "      <td>Female</td>\n",
       "      <td>42</td>\n",
       "      <td>8</td>\n",
       "      <td>159660.80</td>\n",
       "      <td>3</td>\n",
       "      <td>1</td>\n",
       "      <td>0</td>\n",
       "      <td>113931.57</td>\n",
       "      <td>1</td>\n",
       "    </tr>\n",
       "    <tr>\n",
       "      <th>3</th>\n",
       "      <td>4</td>\n",
       "      <td>15701354</td>\n",
       "      <td>Boni</td>\n",
       "      <td>699</td>\n",
       "      <td>France</td>\n",
       "      <td>Female</td>\n",
       "      <td>39</td>\n",
       "      <td>1</td>\n",
       "      <td>0.00</td>\n",
       "      <td>2</td>\n",
       "      <td>0</td>\n",
       "      <td>0</td>\n",
       "      <td>93826.63</td>\n",
       "      <td>0</td>\n",
       "    </tr>\n",
       "    <tr>\n",
       "      <th>4</th>\n",
       "      <td>5</td>\n",
       "      <td>15737888</td>\n",
       "      <td>Mitchell</td>\n",
       "      <td>850</td>\n",
       "      <td>Spain</td>\n",
       "      <td>Female</td>\n",
       "      <td>43</td>\n",
       "      <td>2</td>\n",
       "      <td>125510.82</td>\n",
       "      <td>1</td>\n",
       "      <td>1</td>\n",
       "      <td>1</td>\n",
       "      <td>79084.10</td>\n",
       "      <td>0</td>\n",
       "    </tr>\n",
       "  </tbody>\n",
       "</table>\n",
       "</div>"
      ],
      "text/plain": [
       "   RowNumber  CustomerId   Surname  CreditScore Geography  Gender  Age  \\\n",
       "0          1    15634602  Hargrave          619    France  Female   42   \n",
       "1          2    15647311      Hill          608     Spain  Female   41   \n",
       "2          3    15619304      Onio          502    France  Female   42   \n",
       "3          4    15701354      Boni          699    France  Female   39   \n",
       "4          5    15737888  Mitchell          850     Spain  Female   43   \n",
       "\n",
       "   Tenure    Balance  NumOfProducts  HasCrCard  IsActiveMember  \\\n",
       "0       2       0.00              1          1               1   \n",
       "1       1   83807.86              1          0               1   \n",
       "2       8  159660.80              3          1               0   \n",
       "3       1       0.00              2          0               0   \n",
       "4       2  125510.82              1          1               1   \n",
       "\n",
       "   EstimatedSalary  Exited  \n",
       "0        101348.88       1  \n",
       "1        112542.58       0  \n",
       "2        113931.57       1  \n",
       "3         93826.63       0  \n",
       "4         79084.10       0  "
      ]
     },
     "execution_count": 4,
     "metadata": {},
     "output_type": "execute_result"
    }
   ],
   "source": [
    "data.head()"
   ]
  },
  {
   "cell_type": "markdown",
   "id": "53f3a495-8c55-457f-89d9-53fc85c8eb9d",
   "metadata": {},
   "source": [
    "Get *baseline* accuracy"
   ]
  },
  {
   "cell_type": "code",
   "execution_count": 5,
   "id": "73a2d283-5d81-4ae6-80f4-5bb52e2042e2",
   "metadata": {},
   "outputs": [
    {
     "data": {
      "text/plain": [
       "0.7963"
      ]
     },
     "execution_count": 5,
     "metadata": {},
     "output_type": "execute_result"
    }
   ],
   "source": [
    "max(data['Exited'].mean(), 1-data['Exited'].mean())"
   ]
  },
  {
   "cell_type": "markdown",
   "id": "09612de3-c282-4998-86f7-05012aedcd9f",
   "metadata": {},
   "source": [
    "Specify target and feature columns"
   ]
  },
  {
   "cell_type": "code",
   "execution_count": 6,
   "id": "5ddcca43-ac85-4153-82b7-f1162e4eb780",
   "metadata": {},
   "outputs": [],
   "source": [
    "target = 'Exited'\n",
    "features = [\n",
    "    'CreditScore', \n",
    "    'Geography',\n",
    "    'Gender', \n",
    "    'Age', \n",
    "    'Tenure', \n",
    "    'Balance', \n",
    "    'NumOfProducts', \n",
    "    'HasCrCard',\n",
    "    'IsActiveMember', \n",
    "    'EstimatedSalary',\n",
    "]"
   ]
  },
  {
   "cell_type": "markdown",
   "id": "5ee36b21-accc-4a00-b126-2702213c46a1",
   "metadata": {},
   "source": [
    "#### Statsmodels - Logistic regression"
   ]
  },
  {
   "cell_type": "code",
   "execution_count": 7,
   "id": "f09448ff-0a41-41ac-b099-8b01ee895cb6",
   "metadata": {},
   "outputs": [],
   "source": [
    "import statsmodels.formula.api as smf"
   ]
  },
  {
   "cell_type": "markdown",
   "id": "ed08564c-5bbb-4ba4-9649-914ae9ab44f8",
   "metadata": {},
   "source": [
    "Create training data"
   ]
  },
  {
   "cell_type": "code",
   "execution_count": 8,
   "id": "130351a2-4ad9-467c-853c-382b2428024e",
   "metadata": {},
   "outputs": [],
   "source": [
    "train = data.sample(frac=0.75, random_state=42)"
   ]
  },
  {
   "cell_type": "markdown",
   "id": "2c4ab071-3137-444d-a121-eba65a3c8c5e",
   "metadata": {},
   "source": [
    "Create testing data"
   ]
  },
  {
   "cell_type": "code",
   "execution_count": 9,
   "id": "0642cab2-2a2d-4fd6-aa8b-f757cfb89251",
   "metadata": {},
   "outputs": [],
   "source": [
    "test_idx_values = [val for val in data.index if val not in train.index]\n",
    "test = data.loc[test_idx_values, :]"
   ]
  },
  {
   "cell_type": "markdown",
   "id": "d12f78bd-a88a-4d7b-a487-4863f68e3088",
   "metadata": {},
   "source": [
    "Get training data shape"
   ]
  },
  {
   "cell_type": "code",
   "execution_count": 10,
   "id": "e9507077-c066-4a48-9982-5853e5643461",
   "metadata": {},
   "outputs": [
    {
     "data": {
      "text/plain": [
       "(7500, 14)"
      ]
     },
     "execution_count": 10,
     "metadata": {},
     "output_type": "execute_result"
    }
   ],
   "source": [
    "train.shape"
   ]
  },
  {
   "cell_type": "markdown",
   "id": "f562a657-e412-4aa0-ac6c-430af53a6276",
   "metadata": {},
   "source": [
    "Get testing data shape"
   ]
  },
  {
   "cell_type": "code",
   "execution_count": 11,
   "id": "2295549d-246b-4eff-ba21-7e4016235fa7",
   "metadata": {},
   "outputs": [
    {
     "data": {
      "text/plain": [
       "(2500, 14)"
      ]
     },
     "execution_count": 11,
     "metadata": {},
     "output_type": "execute_result"
    }
   ],
   "source": [
    "test.shape"
   ]
  },
  {
   "cell_type": "markdown",
   "id": "9325b45f-b4f8-4f33-b3cb-aaa9ab11d879",
   "metadata": {},
   "source": [
    "Demonstrate how to use join to get string of features with *plus* signs"
   ]
  },
  {
   "cell_type": "code",
   "execution_count": 12,
   "id": "7778630c-ad73-4d54-87de-a99186a0eec8",
   "metadata": {},
   "outputs": [
    {
     "data": {
      "text/plain": [
       "'CreditScore + Geography + Gender + Age + Tenure + Balance + NumOfProducts + HasCrCard + IsActiveMember + EstimatedSalary'"
      ]
     },
     "execution_count": 12,
     "metadata": {},
     "output_type": "execute_result"
    }
   ],
   "source": [
    "features_sum = ' + '.join(features)\n",
    "features_sum"
   ]
  },
  {
   "cell_type": "markdown",
   "id": "bdee0f76-3dc1-477a-b376-b5ec1a9b3727",
   "metadata": {},
   "source": [
    "Get regression formula"
   ]
  },
  {
   "cell_type": "code",
   "execution_count": 13,
   "id": "71f08651-426b-4211-9541-aaa67f147e3b",
   "metadata": {},
   "outputs": [
    {
     "data": {
      "text/plain": [
       "'Exited ~ CreditScore + Geography + Gender + Age + Tenure + Balance + NumOfProducts + HasCrCard + IsActiveMember + EstimatedSalary'"
      ]
     },
     "execution_count": 13,
     "metadata": {},
     "output_type": "execute_result"
    }
   ],
   "source": [
    "formula = f'{target} ~ {features_sum}'\n",
    "formula"
   ]
  },
  {
   "cell_type": "markdown",
   "id": "ce1e938c-08f8-445d-a120-7821104944e0",
   "metadata": {},
   "source": [
    "Fit logistic regression"
   ]
  },
  {
   "cell_type": "code",
   "execution_count": 14,
   "id": "f4e65393-2bb1-4e11-b489-6bb050db6d56",
   "metadata": {},
   "outputs": [
    {
     "name": "stdout",
     "output_type": "stream",
     "text": [
      "Optimization terminated successfully.\n",
      "         Current function value: 0.425038\n",
      "         Iterations 6\n"
     ]
    }
   ],
   "source": [
    "reg = smf.logit(formula, train).fit()"
   ]
  },
  {
   "cell_type": "markdown",
   "id": "854de058-d767-444e-91d9-ca620188b8c9",
   "metadata": {},
   "source": [
    "Print regression summary"
   ]
  },
  {
   "cell_type": "code",
   "execution_count": 15,
   "id": "a01bac3c-ae91-4cd9-a0bc-d07c6543515c",
   "metadata": {},
   "outputs": [
    {
     "data": {
      "text/html": [
       "<table class=\"simpletable\">\n",
       "<caption>Logit Regression Results</caption>\n",
       "<tr>\n",
       "  <th>Dep. Variable:</th>        <td>Exited</td>      <th>  No. Observations:  </th>   <td>  7500</td>  \n",
       "</tr>\n",
       "<tr>\n",
       "  <th>Model:</th>                 <td>Logit</td>      <th>  Df Residuals:      </th>   <td>  7488</td>  \n",
       "</tr>\n",
       "<tr>\n",
       "  <th>Method:</th>                 <td>MLE</td>       <th>  Df Model:          </th>   <td>    11</td>  \n",
       "</tr>\n",
       "<tr>\n",
       "  <th>Date:</th>            <td>Thu, 16 Nov 2023</td> <th>  Pseudo R-squ.:     </th>   <td>0.1547</td>  \n",
       "</tr>\n",
       "<tr>\n",
       "  <th>Time:</th>                <td>06:15:56</td>     <th>  Log-Likelihood:    </th>  <td> -3187.8</td> \n",
       "</tr>\n",
       "<tr>\n",
       "  <th>converged:</th>             <td>True</td>       <th>  LL-Null:           </th>  <td> -3771.0</td> \n",
       "</tr>\n",
       "<tr>\n",
       "  <th>Covariance Type:</th>     <td>nonrobust</td>    <th>  LLR p-value:       </th> <td>2.860e-243</td>\n",
       "</tr>\n",
       "</table>\n",
       "<table class=\"simpletable\">\n",
       "<tr>\n",
       "            <td></td>              <th>coef</th>     <th>std err</th>      <th>z</th>      <th>P>|z|</th>  <th>[0.025</th>    <th>0.975]</th>  \n",
       "</tr>\n",
       "<tr>\n",
       "  <th>Intercept</th>            <td>   -3.5989</td> <td>    0.284</td> <td>  -12.676</td> <td> 0.000</td> <td>   -4.155</td> <td>   -3.042</td>\n",
       "</tr>\n",
       "<tr>\n",
       "  <th>Geography[T.Germany]</th> <td>    0.7719</td> <td>    0.078</td> <td>    9.849</td> <td> 0.000</td> <td>    0.618</td> <td>    0.925</td>\n",
       "</tr>\n",
       "<tr>\n",
       "  <th>Geography[T.Spain]</th>   <td>    0.0236</td> <td>    0.082</td> <td>    0.287</td> <td> 0.774</td> <td>   -0.138</td> <td>    0.185</td>\n",
       "</tr>\n",
       "<tr>\n",
       "  <th>Gender[T.Male]</th>       <td>   -0.5354</td> <td>    0.063</td> <td>   -8.463</td> <td> 0.000</td> <td>   -0.659</td> <td>   -0.411</td>\n",
       "</tr>\n",
       "<tr>\n",
       "  <th>CreditScore</th>          <td>   -0.0005</td> <td>    0.000</td> <td>   -1.517</td> <td> 0.129</td> <td>   -0.001</td> <td>    0.000</td>\n",
       "</tr>\n",
       "<tr>\n",
       "  <th>Age</th>                  <td>    0.0753</td> <td>    0.003</td> <td>   25.012</td> <td> 0.000</td> <td>    0.069</td> <td>    0.081</td>\n",
       "</tr>\n",
       "<tr>\n",
       "  <th>Tenure</th>               <td>   -0.0068</td> <td>    0.011</td> <td>   -0.630</td> <td> 0.528</td> <td>   -0.028</td> <td>    0.014</td>\n",
       "</tr>\n",
       "<tr>\n",
       "  <th>Balance</th>              <td> 2.523e-06</td> <td> 5.97e-07</td> <td>    4.228</td> <td> 0.000</td> <td> 1.35e-06</td> <td> 3.69e-06</td>\n",
       "</tr>\n",
       "<tr>\n",
       "  <th>NumOfProducts</th>        <td>   -0.1050</td> <td>    0.054</td> <td>   -1.928</td> <td> 0.054</td> <td>   -0.212</td> <td>    0.002</td>\n",
       "</tr>\n",
       "<tr>\n",
       "  <th>HasCrCard</th>            <td>   -0.0915</td> <td>    0.068</td> <td>   -1.339</td> <td> 0.181</td> <td>   -0.225</td> <td>    0.042</td>\n",
       "</tr>\n",
       "<tr>\n",
       "  <th>IsActiveMember</th>       <td>   -1.0882</td> <td>    0.067</td> <td>  -16.187</td> <td> 0.000</td> <td>   -1.220</td> <td>   -0.956</td>\n",
       "</tr>\n",
       "<tr>\n",
       "  <th>EstimatedSalary</th>      <td> 2.955e-07</td> <td> 5.49e-07</td> <td>    0.538</td> <td> 0.591</td> <td>-7.81e-07</td> <td> 1.37e-06</td>\n",
       "</tr>\n",
       "</table>"
      ],
      "text/latex": [
       "\\begin{center}\n",
       "\\begin{tabular}{lclc}\n",
       "\\toprule\n",
       "\\textbf{Dep. Variable:}       &      Exited      & \\textbf{  No. Observations:  } &     7500    \\\\\n",
       "\\textbf{Model:}               &      Logit       & \\textbf{  Df Residuals:      } &     7488    \\\\\n",
       "\\textbf{Method:}              &       MLE        & \\textbf{  Df Model:          } &       11    \\\\\n",
       "\\textbf{Date:}                & Thu, 16 Nov 2023 & \\textbf{  Pseudo R-squ.:     } &   0.1547    \\\\\n",
       "\\textbf{Time:}                &     06:15:56     & \\textbf{  Log-Likelihood:    } &   -3187.8   \\\\\n",
       "\\textbf{converged:}           &       True       & \\textbf{  LL-Null:           } &   -3771.0   \\\\\n",
       "\\textbf{Covariance Type:}     &    nonrobust     & \\textbf{  LLR p-value:       } & 2.860e-243  \\\\\n",
       "\\bottomrule\n",
       "\\end{tabular}\n",
       "\\begin{tabular}{lcccccc}\n",
       "                              & \\textbf{coef} & \\textbf{std err} & \\textbf{z} & \\textbf{P$> |$z$|$} & \\textbf{[0.025} & \\textbf{0.975]}  \\\\\n",
       "\\midrule\n",
       "\\textbf{Intercept}            &      -3.5989  &        0.284     &   -12.676  &         0.000        &       -4.155    &       -3.042     \\\\\n",
       "\\textbf{Geography[T.Germany]} &       0.7719  &        0.078     &     9.849  &         0.000        &        0.618    &        0.925     \\\\\n",
       "\\textbf{Geography[T.Spain]}   &       0.0236  &        0.082     &     0.287  &         0.774        &       -0.138    &        0.185     \\\\\n",
       "\\textbf{Gender[T.Male]}       &      -0.5354  &        0.063     &    -8.463  &         0.000        &       -0.659    &       -0.411     \\\\\n",
       "\\textbf{CreditScore}          &      -0.0005  &        0.000     &    -1.517  &         0.129        &       -0.001    &        0.000     \\\\\n",
       "\\textbf{Age}                  &       0.0753  &        0.003     &    25.012  &         0.000        &        0.069    &        0.081     \\\\\n",
       "\\textbf{Tenure}               &      -0.0068  &        0.011     &    -0.630  &         0.528        &       -0.028    &        0.014     \\\\\n",
       "\\textbf{Balance}              &    2.523e-06  &     5.97e-07     &     4.228  &         0.000        &     1.35e-06    &     3.69e-06     \\\\\n",
       "\\textbf{NumOfProducts}        &      -0.1050  &        0.054     &    -1.928  &         0.054        &       -0.212    &        0.002     \\\\\n",
       "\\textbf{HasCrCard}            &      -0.0915  &        0.068     &    -1.339  &         0.181        &       -0.225    &        0.042     \\\\\n",
       "\\textbf{IsActiveMember}       &      -1.0882  &        0.067     &   -16.187  &         0.000        &       -1.220    &       -0.956     \\\\\n",
       "\\textbf{EstimatedSalary}      &    2.955e-07  &     5.49e-07     &     0.538  &         0.591        &    -7.81e-07    &     1.37e-06     \\\\\n",
       "\\bottomrule\n",
       "\\end{tabular}\n",
       "%\\caption{Logit Regression Results}\n",
       "\\end{center}"
      ],
      "text/plain": [
       "<class 'statsmodels.iolib.summary.Summary'>\n",
       "\"\"\"\n",
       "                           Logit Regression Results                           \n",
       "==============================================================================\n",
       "Dep. Variable:                 Exited   No. Observations:                 7500\n",
       "Model:                          Logit   Df Residuals:                     7488\n",
       "Method:                           MLE   Df Model:                           11\n",
       "Date:                Thu, 16 Nov 2023   Pseudo R-squ.:                  0.1547\n",
       "Time:                        06:15:56   Log-Likelihood:                -3187.8\n",
       "converged:                       True   LL-Null:                       -3771.0\n",
       "Covariance Type:            nonrobust   LLR p-value:                2.860e-243\n",
       "========================================================================================\n",
       "                           coef    std err          z      P>|z|      [0.025      0.975]\n",
       "----------------------------------------------------------------------------------------\n",
       "Intercept               -3.5989      0.284    -12.676      0.000      -4.155      -3.042\n",
       "Geography[T.Germany]     0.7719      0.078      9.849      0.000       0.618       0.925\n",
       "Geography[T.Spain]       0.0236      0.082      0.287      0.774      -0.138       0.185\n",
       "Gender[T.Male]          -0.5354      0.063     -8.463      0.000      -0.659      -0.411\n",
       "CreditScore             -0.0005      0.000     -1.517      0.129      -0.001       0.000\n",
       "Age                      0.0753      0.003     25.012      0.000       0.069       0.081\n",
       "Tenure                  -0.0068      0.011     -0.630      0.528      -0.028       0.014\n",
       "Balance               2.523e-06   5.97e-07      4.228      0.000    1.35e-06    3.69e-06\n",
       "NumOfProducts           -0.1050      0.054     -1.928      0.054      -0.212       0.002\n",
       "HasCrCard               -0.0915      0.068     -1.339      0.181      -0.225       0.042\n",
       "IsActiveMember          -1.0882      0.067    -16.187      0.000      -1.220      -0.956\n",
       "EstimatedSalary       2.955e-07   5.49e-07      0.538      0.591   -7.81e-07    1.37e-06\n",
       "========================================================================================\n",
       "\"\"\""
      ]
     },
     "execution_count": 15,
     "metadata": {},
     "output_type": "execute_result"
    }
   ],
   "source": [
    "reg.summary()"
   ]
  },
  {
   "cell_type": "markdown",
   "id": "6401dd50-c25b-43ba-9e45-0b57f4b1f1aa",
   "metadata": {},
   "source": [
    "Get positive probabilities using regression model"
   ]
  },
  {
   "cell_type": "code",
   "execution_count": 16,
   "id": "3106d061-5f9b-45b8-87bd-74c848c88702",
   "metadata": {},
   "outputs": [],
   "source": [
    "positive_probabilities = reg.predict(test)\n",
    "test['positive_probabilities'] = positive_probabilities"
   ]
  },
  {
   "cell_type": "markdown",
   "id": "199f4cac-52e9-446e-802c-ce11ec4a4b77",
   "metadata": {},
   "source": [
    "Print first five rows"
   ]
  },
  {
   "cell_type": "code",
   "execution_count": 17,
   "id": "e063f032-fb78-4cdb-89e8-3f8340173cb9",
   "metadata": {},
   "outputs": [
    {
     "data": {
      "text/html": [
       "<div>\n",
       "<style scoped>\n",
       "    .dataframe tbody tr th:only-of-type {\n",
       "        vertical-align: middle;\n",
       "    }\n",
       "\n",
       "    .dataframe tbody tr th {\n",
       "        vertical-align: top;\n",
       "    }\n",
       "\n",
       "    .dataframe thead th {\n",
       "        text-align: right;\n",
       "    }\n",
       "</style>\n",
       "<table border=\"1\" class=\"dataframe\">\n",
       "  <thead>\n",
       "    <tr style=\"text-align: right;\">\n",
       "      <th></th>\n",
       "      <th>RowNumber</th>\n",
       "      <th>CustomerId</th>\n",
       "      <th>Surname</th>\n",
       "      <th>CreditScore</th>\n",
       "      <th>Geography</th>\n",
       "      <th>Gender</th>\n",
       "      <th>Age</th>\n",
       "      <th>Tenure</th>\n",
       "      <th>Balance</th>\n",
       "      <th>NumOfProducts</th>\n",
       "      <th>HasCrCard</th>\n",
       "      <th>IsActiveMember</th>\n",
       "      <th>EstimatedSalary</th>\n",
       "      <th>Exited</th>\n",
       "      <th>positive_probabilities</th>\n",
       "    </tr>\n",
       "  </thead>\n",
       "  <tbody>\n",
       "    <tr>\n",
       "      <th>1</th>\n",
       "      <td>2</td>\n",
       "      <td>15647311</td>\n",
       "      <td>Hill</td>\n",
       "      <td>608</td>\n",
       "      <td>Spain</td>\n",
       "      <td>Female</td>\n",
       "      <td>41</td>\n",
       "      <td>1</td>\n",
       "      <td>83807.86</td>\n",
       "      <td>1</td>\n",
       "      <td>0</td>\n",
       "      <td>1</td>\n",
       "      <td>112542.58</td>\n",
       "      <td>0</td>\n",
       "      <td>0.148853</td>\n",
       "    </tr>\n",
       "    <tr>\n",
       "      <th>4</th>\n",
       "      <td>5</td>\n",
       "      <td>15737888</td>\n",
       "      <td>Mitchell</td>\n",
       "      <td>850</td>\n",
       "      <td>Spain</td>\n",
       "      <td>Female</td>\n",
       "      <td>43</td>\n",
       "      <td>2</td>\n",
       "      <td>125510.82</td>\n",
       "      <td>1</td>\n",
       "      <td>1</td>\n",
       "      <td>1</td>\n",
       "      <td>79084.10</td>\n",
       "      <td>0</td>\n",
       "      <td>0.152503</td>\n",
       "    </tr>\n",
       "    <tr>\n",
       "      <th>5</th>\n",
       "      <td>6</td>\n",
       "      <td>15574012</td>\n",
       "      <td>Chu</td>\n",
       "      <td>645</td>\n",
       "      <td>Spain</td>\n",
       "      <td>Male</td>\n",
       "      <td>44</td>\n",
       "      <td>8</td>\n",
       "      <td>113755.78</td>\n",
       "      <td>2</td>\n",
       "      <td>1</td>\n",
       "      <td>0</td>\n",
       "      <td>149756.71</td>\n",
       "      <td>1</td>\n",
       "      <td>0.242129</td>\n",
       "    </tr>\n",
       "    <tr>\n",
       "      <th>9</th>\n",
       "      <td>10</td>\n",
       "      <td>15592389</td>\n",
       "      <td>H?</td>\n",
       "      <td>684</td>\n",
       "      <td>France</td>\n",
       "      <td>Male</td>\n",
       "      <td>27</td>\n",
       "      <td>2</td>\n",
       "      <td>134603.88</td>\n",
       "      <td>1</td>\n",
       "      <td>1</td>\n",
       "      <td>1</td>\n",
       "      <td>71725.73</td>\n",
       "      <td>0</td>\n",
       "      <td>0.033053</td>\n",
       "    </tr>\n",
       "    <tr>\n",
       "      <th>11</th>\n",
       "      <td>12</td>\n",
       "      <td>15737173</td>\n",
       "      <td>Andrews</td>\n",
       "      <td>497</td>\n",
       "      <td>Spain</td>\n",
       "      <td>Male</td>\n",
       "      <td>24</td>\n",
       "      <td>3</td>\n",
       "      <td>0.00</td>\n",
       "      <td>2</td>\n",
       "      <td>1</td>\n",
       "      <td>0</td>\n",
       "      <td>76390.01</td>\n",
       "      <td>0</td>\n",
       "      <td>0.054779</td>\n",
       "    </tr>\n",
       "  </tbody>\n",
       "</table>\n",
       "</div>"
      ],
      "text/plain": [
       "    RowNumber  CustomerId   Surname  CreditScore Geography  Gender  Age  \\\n",
       "1           2    15647311      Hill          608     Spain  Female   41   \n",
       "4           5    15737888  Mitchell          850     Spain  Female   43   \n",
       "5           6    15574012       Chu          645     Spain    Male   44   \n",
       "9          10    15592389        H?          684    France    Male   27   \n",
       "11         12    15737173   Andrews          497     Spain    Male   24   \n",
       "\n",
       "    Tenure    Balance  NumOfProducts  HasCrCard  IsActiveMember  \\\n",
       "1        1   83807.86              1          0               1   \n",
       "4        2  125510.82              1          1               1   \n",
       "5        8  113755.78              2          1               0   \n",
       "9        2  134603.88              1          1               1   \n",
       "11       3       0.00              2          1               0   \n",
       "\n",
       "    EstimatedSalary  Exited  positive_probabilities  \n",
       "1         112542.58       0                0.148853  \n",
       "4          79084.10       0                0.152503  \n",
       "5         149756.71       1                0.242129  \n",
       "9          71725.73       0                0.033053  \n",
       "11         76390.01       0                0.054779  "
      ]
     },
     "execution_count": 17,
     "metadata": {},
     "output_type": "execute_result"
    }
   ],
   "source": [
    "test.head()"
   ]
  },
  {
   "cell_type": "markdown",
   "id": "03205755-1853-49ec-b53f-7e810c8071a0",
   "metadata": {},
   "source": [
    "Run simple experiment to observe how accuracy changes as threshold varies"
   ]
  },
  {
   "cell_type": "code",
   "execution_count": 18,
   "id": "357d53e7-93bf-4260-89d7-e30c6be1c9aa",
   "metadata": {},
   "outputs": [
    {
     "data": {
      "text/plain": [
       "[[0.1, 0.5112],\n",
       " [0.2, 0.7016],\n",
       " [0.3, 0.7764],\n",
       " [0.4, 0.7968],\n",
       " [0.46, 0.8088],\n",
       " [0.47, 0.8104],\n",
       " [0.48, 0.8136],\n",
       " [0.49, 0.8156],\n",
       " [0.5, 0.8152],\n",
       " [0.51, 0.8128],\n",
       " [0.52, 0.8124],\n",
       " [0.53, 0.8124],\n",
       " [0.54, 0.8116],\n",
       " [0.55, 0.8112],\n",
       " [0.6, 0.804],\n",
       " [0.7, 0.7952],\n",
       " [0.8, 0.7912],\n",
       " [0.9, 0.7908]]"
      ]
     },
     "execution_count": 18,
     "metadata": {},
     "output_type": "execute_result"
    }
   ],
   "source": [
    "experiment_data = []\n",
    "\n",
    "for threshold in [0.1, 0.2, 0.3, 0.4, 0.46, 0.47, 0.48, 0.49, 0.5, 0.51, 0.52, 0.53, 0.54, 0.55, 0.6, 0.7, 0.8, 0.9]:\n",
    "\n",
    "    test['prediction'] = (test['positive_probabilities'] >= threshold).astype(int)\n",
    "    accuracy = (test['Exited'] == test['prediction']).astype(int).mean()\n",
    "    experiment_data.append([threshold, accuracy])\n",
    "\n",
    "experiment_data"
   ]
  },
  {
   "cell_type": "markdown",
   "id": "8b7630dd-8cf7-4cb0-a1bc-4f4ae60a3c3e",
   "metadata": {},
   "source": [
    "#### Scikit-learn - Random forest"
   ]
  },
  {
   "cell_type": "code",
   "execution_count": 19,
   "id": "b1b085cf-a229-488a-a3c3-bdcf044edb39",
   "metadata": {},
   "outputs": [],
   "source": [
    "from sklearn.model_selection import train_test_split\n",
    "from sklearn.model_selection import GridSearchCV\n",
    "from sklearn.ensemble import RandomForestClassifier"
   ]
  },
  {
   "cell_type": "markdown",
   "id": "5ad190b3-65f3-4500-9946-b6c3289086e9",
   "metadata": {},
   "source": [
    "Make copy of data for work in scikit-learn"
   ]
  },
  {
   "cell_type": "code",
   "execution_count": 20,
   "id": "3bf6f0ad-ce78-444a-b508-8ae44edca6dc",
   "metadata": {},
   "outputs": [],
   "source": [
    "skdata = data.copy()"
   ]
  },
  {
   "cell_type": "markdown",
   "id": "560f6489-1db8-4d3b-89bb-b048ee59f3d2",
   "metadata": {},
   "source": [
    "Get dummies for string columns (one hot encoding)"
   ]
  },
  {
   "cell_type": "code",
   "execution_count": 21,
   "id": "3dabe32c-ebbc-4f66-8804-053239beaf8e",
   "metadata": {},
   "outputs": [
    {
     "name": "stdout",
     "output_type": "stream",
     "text": [
      "Geography\n",
      "Gender\n"
     ]
    }
   ],
   "source": [
    "skdata = data.copy()\n",
    "\n",
    "string_columns = ['Geography', 'Gender']\n",
    "\n",
    "for string_column in string_columns:\n",
    "    print(f'{string_column}')\n",
    "    \n",
    "    dummies = pd.get_dummies(\n",
    "        skdata[string_column], \n",
    "        drop_first=True,\n",
    "        prefix=string_column,\n",
    "    ).astype(int)\n",
    "    \n",
    "    skdata = skdata.drop(columns=[string_column])\n",
    "    skdata = pd.concat([skdata, dummies], axis=1)"
   ]
  },
  {
   "cell_type": "markdown",
   "id": "b9f17479-1803-48af-9e48-cd50b87f2e12",
   "metadata": {},
   "source": [
    "Define updated target and feature columns"
   ]
  },
  {
   "cell_type": "code",
   "execution_count": 22,
   "id": "5eedc467-8aad-4d6d-b57f-63728c1335db",
   "metadata": {},
   "outputs": [],
   "source": [
    "target = 'Exited'\n",
    "features = [\n",
    "    'CreditScore', \n",
    "    'Age', \n",
    "    'Tenure',\n",
    "    'Balance', \n",
    "    'NumOfProducts', \n",
    "    'HasCrCard', \n",
    "    'IsActiveMember',\n",
    "    'EstimatedSalary', \n",
    "    'Geography_Germany', \n",
    "    'Geography_Spain',\n",
    "    'Gender_Male',\n",
    "]"
   ]
  },
  {
   "cell_type": "markdown",
   "id": "f2d226c3-86a3-4d88-9772-c699b103cdbd",
   "metadata": {},
   "source": [
    "Create training and testing datasets"
   ]
  },
  {
   "cell_type": "code",
   "execution_count": 23,
   "id": "88615172-cdc7-40f8-9f9b-9d1a6359a8ea",
   "metadata": {},
   "outputs": [],
   "source": [
    "X_train, X_test, y_train, y_test = train_test_split(\n",
    "    skdata[features], \n",
    "    skdata[target], \n",
    "    test_size=0.25, \n",
    "    random_state=42,\n",
    "    stratify=skdata[target],\n",
    ")"
   ]
  },
  {
   "cell_type": "markdown",
   "id": "931ea64c-00b5-4c3b-a496-f22df22583ca",
   "metadata": {},
   "source": [
    "Fit *default* random forest classifier"
   ]
  },
  {
   "cell_type": "code",
   "execution_count": 24,
   "id": "f445b5f1-058b-42af-b256-dad6edef72b1",
   "metadata": {},
   "outputs": [
    {
     "data": {
      "text/html": [
       "<style>#sk-container-id-1 {color: black;}#sk-container-id-1 pre{padding: 0;}#sk-container-id-1 div.sk-toggleable {background-color: white;}#sk-container-id-1 label.sk-toggleable__label {cursor: pointer;display: block;width: 100%;margin-bottom: 0;padding: 0.3em;box-sizing: border-box;text-align: center;}#sk-container-id-1 label.sk-toggleable__label-arrow:before {content: \"▸\";float: left;margin-right: 0.25em;color: #696969;}#sk-container-id-1 label.sk-toggleable__label-arrow:hover:before {color: black;}#sk-container-id-1 div.sk-estimator:hover label.sk-toggleable__label-arrow:before {color: black;}#sk-container-id-1 div.sk-toggleable__content {max-height: 0;max-width: 0;overflow: hidden;text-align: left;background-color: #f0f8ff;}#sk-container-id-1 div.sk-toggleable__content pre {margin: 0.2em;color: black;border-radius: 0.25em;background-color: #f0f8ff;}#sk-container-id-1 input.sk-toggleable__control:checked~div.sk-toggleable__content {max-height: 200px;max-width: 100%;overflow: auto;}#sk-container-id-1 input.sk-toggleable__control:checked~label.sk-toggleable__label-arrow:before {content: \"▾\";}#sk-container-id-1 div.sk-estimator input.sk-toggleable__control:checked~label.sk-toggleable__label {background-color: #d4ebff;}#sk-container-id-1 div.sk-label input.sk-toggleable__control:checked~label.sk-toggleable__label {background-color: #d4ebff;}#sk-container-id-1 input.sk-hidden--visually {border: 0;clip: rect(1px 1px 1px 1px);clip: rect(1px, 1px, 1px, 1px);height: 1px;margin: -1px;overflow: hidden;padding: 0;position: absolute;width: 1px;}#sk-container-id-1 div.sk-estimator {font-family: monospace;background-color: #f0f8ff;border: 1px dotted black;border-radius: 0.25em;box-sizing: border-box;margin-bottom: 0.5em;}#sk-container-id-1 div.sk-estimator:hover {background-color: #d4ebff;}#sk-container-id-1 div.sk-parallel-item::after {content: \"\";width: 100%;border-bottom: 1px solid gray;flex-grow: 1;}#sk-container-id-1 div.sk-label:hover label.sk-toggleable__label {background-color: #d4ebff;}#sk-container-id-1 div.sk-serial::before {content: \"\";position: absolute;border-left: 1px solid gray;box-sizing: border-box;top: 0;bottom: 0;left: 50%;z-index: 0;}#sk-container-id-1 div.sk-serial {display: flex;flex-direction: column;align-items: center;background-color: white;padding-right: 0.2em;padding-left: 0.2em;position: relative;}#sk-container-id-1 div.sk-item {position: relative;z-index: 1;}#sk-container-id-1 div.sk-parallel {display: flex;align-items: stretch;justify-content: center;background-color: white;position: relative;}#sk-container-id-1 div.sk-item::before, #sk-container-id-1 div.sk-parallel-item::before {content: \"\";position: absolute;border-left: 1px solid gray;box-sizing: border-box;top: 0;bottom: 0;left: 50%;z-index: -1;}#sk-container-id-1 div.sk-parallel-item {display: flex;flex-direction: column;z-index: 1;position: relative;background-color: white;}#sk-container-id-1 div.sk-parallel-item:first-child::after {align-self: flex-end;width: 50%;}#sk-container-id-1 div.sk-parallel-item:last-child::after {align-self: flex-start;width: 50%;}#sk-container-id-1 div.sk-parallel-item:only-child::after {width: 0;}#sk-container-id-1 div.sk-dashed-wrapped {border: 1px dashed gray;margin: 0 0.4em 0.5em 0.4em;box-sizing: border-box;padding-bottom: 0.4em;background-color: white;}#sk-container-id-1 div.sk-label label {font-family: monospace;font-weight: bold;display: inline-block;line-height: 1.2em;}#sk-container-id-1 div.sk-label-container {text-align: center;}#sk-container-id-1 div.sk-container {/* jupyter's `normalize.less` sets `[hidden] { display: none; }` but bootstrap.min.css set `[hidden] { display: none !important; }` so we also need the `!important` here to be able to override the default hidden behavior on the sphinx rendered scikit-learn.org. See: https://github.com/scikit-learn/scikit-learn/issues/21755 */display: inline-block !important;position: relative;}#sk-container-id-1 div.sk-text-repr-fallback {display: none;}</style><div id=\"sk-container-id-1\" class=\"sk-top-container\"><div class=\"sk-text-repr-fallback\"><pre>RandomForestClassifier(random_state=42)</pre><b>In a Jupyter environment, please rerun this cell to show the HTML representation or trust the notebook. <br />On GitHub, the HTML representation is unable to render, please try loading this page with nbviewer.org.</b></div><div class=\"sk-container\" hidden><div class=\"sk-item\"><div class=\"sk-estimator sk-toggleable\"><input class=\"sk-toggleable__control sk-hidden--visually\" id=\"sk-estimator-id-1\" type=\"checkbox\" checked><label for=\"sk-estimator-id-1\" class=\"sk-toggleable__label sk-toggleable__label-arrow\">RandomForestClassifier</label><div class=\"sk-toggleable__content\"><pre>RandomForestClassifier(random_state=42)</pre></div></div></div></div></div>"
      ],
      "text/plain": [
       "RandomForestClassifier(random_state=42)"
      ]
     },
     "execution_count": 24,
     "metadata": {},
     "output_type": "execute_result"
    }
   ],
   "source": [
    "clf = RandomForestClassifier(random_state=42)\n",
    "clf.fit(X_train, y_train)"
   ]
  },
  {
   "cell_type": "markdown",
   "id": "fcdaaf22-9926-44f7-87e8-7111f88ae2ae",
   "metadata": {},
   "source": [
    "Get accuracy for random forest classifier."
   ]
  },
  {
   "cell_type": "code",
   "execution_count": 25,
   "id": "ff34a0fd-d1a0-4182-8436-1c3a6aa2997e",
   "metadata": {},
   "outputs": [
    {
     "data": {
      "text/plain": [
       "0.8656"
      ]
     },
     "execution_count": 25,
     "metadata": {},
     "output_type": "execute_result"
    }
   ],
   "source": [
    "clf.score(X_test, y_test)"
   ]
  },
  {
   "cell_type": "code",
   "execution_count": null,
   "id": "059daec4-067c-4f13-882f-581a729f38ff",
   "metadata": {},
   "outputs": [],
   "source": []
  }
 ],
 "metadata": {
  "kernelspec": {
   "display_name": "Python 3 (ipykernel)",
   "language": "python",
   "name": "python3"
  },
  "language_info": {
   "codemirror_mode": {
    "name": "ipython",
    "version": 3
   },
   "file_extension": ".py",
   "mimetype": "text/x-python",
   "name": "python",
   "nbconvert_exporter": "python",
   "pygments_lexer": "ipython3",
   "version": "3.11.6"
  }
 },
 "nbformat": 4,
 "nbformat_minor": 5
}
