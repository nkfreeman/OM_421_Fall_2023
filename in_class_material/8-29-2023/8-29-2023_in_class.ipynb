{
 "cells": [
  {
   "cell_type": "code",
   "execution_count": 1,
   "id": "ee959c1b-4fd2-40ed-90bb-c0c11013f558",
   "metadata": {
    "tags": []
   },
   "outputs": [],
   "source": [
    "import matplotlib.pyplot as plt\n",
    "import pandas as pd"
   ]
  },
  {
   "cell_type": "code",
   "execution_count": 3,
   "id": "f4a3fd38-377c-42cf-8314-a2ec89367d0d",
   "metadata": {
    "tags": []
   },
   "outputs": [],
   "source": [
    "data = pd.read_csv('orders.csv')"
   ]
  },
  {
   "cell_type": "code",
   "execution_count": 5,
   "id": "bb61d1a1-b362-4829-a630-582ab5209db8",
   "metadata": {
    "tags": []
   },
   "outputs": [
    {
     "data": {
      "text/html": [
       "<div>\n",
       "<style scoped>\n",
       "    .dataframe tbody tr th:only-of-type {\n",
       "        vertical-align: middle;\n",
       "    }\n",
       "\n",
       "    .dataframe tbody tr th {\n",
       "        vertical-align: top;\n",
       "    }\n",
       "\n",
       "    .dataframe thead th {\n",
       "        text-align: right;\n",
       "    }\n",
       "</style>\n",
       "<table border=\"1\" class=\"dataframe\">\n",
       "  <thead>\n",
       "    <tr style=\"text-align: right;\">\n",
       "      <th></th>\n",
       "      <th>OrderID</th>\n",
       "      <th>CustomerID</th>\n",
       "      <th>EmployeeID</th>\n",
       "      <th>OrderDate</th>\n",
       "      <th>RequiredDate</th>\n",
       "      <th>ShippedDate</th>\n",
       "      <th>ShipVia</th>\n",
       "      <th>Freight</th>\n",
       "      <th>ShipName</th>\n",
       "      <th>ShipAddress</th>\n",
       "      <th>ShipCity</th>\n",
       "      <th>ShipRegion</th>\n",
       "      <th>ShipPostalCode</th>\n",
       "      <th>ShipCountry</th>\n",
       "    </tr>\n",
       "  </thead>\n",
       "  <tbody>\n",
       "    <tr>\n",
       "      <th>0</th>\n",
       "      <td>10248</td>\n",
       "      <td>VINET</td>\n",
       "      <td>5</td>\n",
       "      <td>2016-07-04</td>\n",
       "      <td>2016-08-01</td>\n",
       "      <td>2016-07-16</td>\n",
       "      <td>3</td>\n",
       "      <td>32.38</td>\n",
       "      <td>Vins et alcools Chevalier</td>\n",
       "      <td>59 rue de l-Abbaye</td>\n",
       "      <td>Reims</td>\n",
       "      <td>Western Europe</td>\n",
       "      <td>51100</td>\n",
       "      <td>France</td>\n",
       "    </tr>\n",
       "    <tr>\n",
       "      <th>1</th>\n",
       "      <td>10249</td>\n",
       "      <td>TOMSP</td>\n",
       "      <td>6</td>\n",
       "      <td>2016-07-05</td>\n",
       "      <td>2016-08-16</td>\n",
       "      <td>2016-07-10</td>\n",
       "      <td>1</td>\n",
       "      <td>11.61</td>\n",
       "      <td>Toms Spezialitäten</td>\n",
       "      <td>Luisenstr. 48</td>\n",
       "      <td>Münster</td>\n",
       "      <td>Western Europe</td>\n",
       "      <td>44087</td>\n",
       "      <td>Germany</td>\n",
       "    </tr>\n",
       "    <tr>\n",
       "      <th>2</th>\n",
       "      <td>10250</td>\n",
       "      <td>HANAR</td>\n",
       "      <td>4</td>\n",
       "      <td>2016-07-08</td>\n",
       "      <td>2016-08-05</td>\n",
       "      <td>2016-07-12</td>\n",
       "      <td>2</td>\n",
       "      <td>65.83</td>\n",
       "      <td>Hanari Carnes</td>\n",
       "      <td>Rua do Paço, 67</td>\n",
       "      <td>Rio de Janeiro</td>\n",
       "      <td>South America</td>\n",
       "      <td>05454-876</td>\n",
       "      <td>Brazil</td>\n",
       "    </tr>\n",
       "  </tbody>\n",
       "</table>\n",
       "</div>"
      ],
      "text/plain": [
       "   OrderID CustomerID  EmployeeID   OrderDate RequiredDate ShippedDate  \\\n",
       "0    10248      VINET           5  2016-07-04   2016-08-01  2016-07-16   \n",
       "1    10249      TOMSP           6  2016-07-05   2016-08-16  2016-07-10   \n",
       "2    10250      HANAR           4  2016-07-08   2016-08-05  2016-07-12   \n",
       "\n",
       "   ShipVia  Freight                   ShipName         ShipAddress  \\\n",
       "0        3    32.38  Vins et alcools Chevalier  59 rue de l-Abbaye   \n",
       "1        1    11.61         Toms Spezialitäten       Luisenstr. 48   \n",
       "2        2    65.83              Hanari Carnes     Rua do Paço, 67   \n",
       "\n",
       "         ShipCity      ShipRegion ShipPostalCode ShipCountry  \n",
       "0           Reims  Western Europe          51100      France  \n",
       "1         Münster  Western Europe          44087     Germany  \n",
       "2  Rio de Janeiro   South America      05454-876      Brazil  "
      ]
     },
     "execution_count": 5,
     "metadata": {},
     "output_type": "execute_result"
    }
   ],
   "source": [
    "data.head(3)"
   ]
  },
  {
   "cell_type": "code",
   "execution_count": 11,
   "id": "c0cc4f19-d91c-4462-8fa3-e8f2d0db5fa2",
   "metadata": {
    "tags": []
   },
   "outputs": [
    {
     "data": {
      "text/plain": [
       "pandas.core.frame.DataFrame"
      ]
     },
     "execution_count": 11,
     "metadata": {},
     "output_type": "execute_result"
    }
   ],
   "source": [
    "type(data)"
   ]
  },
  {
   "cell_type": "code",
   "execution_count": 12,
   "id": "cef975ff-16e5-49aa-acfd-76ce170e33f2",
   "metadata": {
    "tags": []
   },
   "outputs": [
    {
     "data": {
      "text/plain": [
       "'TOMSP'"
      ]
     },
     "execution_count": 12,
     "metadata": {},
     "output_type": "execute_result"
    }
   ],
   "source": [
    "data.loc[1, 'CustomerID']"
   ]
  },
  {
   "cell_type": "code",
   "execution_count": 33,
   "id": "ee3c3975-3966-4660-88ed-5a2bacb63cc1",
   "metadata": {
    "tags": []
   },
   "outputs": [
    {
     "name": "stdout",
     "output_type": "stream",
     "text": [
      "<class 'pandas.core.frame.DataFrame'>\n",
      "RangeIndex: 830 entries, 0 to 829\n",
      "Data columns (total 14 columns):\n",
      " #   Column          Non-Null Count  Dtype  \n",
      "---  ------          --------------  -----  \n",
      " 0   OrderID         830 non-null    int64  \n",
      " 1   CustomerID      830 non-null    object \n",
      " 2   EmployeeID      830 non-null    int64  \n",
      " 3   OrderDate       830 non-null    object \n",
      " 4   RequiredDate    830 non-null    object \n",
      " 5   ShippedDate     809 non-null    object \n",
      " 6   ShipVia         830 non-null    int64  \n",
      " 7   Freight         830 non-null    float64\n",
      " 8   ShipName        830 non-null    object \n",
      " 9   ShipAddress     830 non-null    object \n",
      " 10  ShipCity        830 non-null    object \n",
      " 11  ShipRegion      830 non-null    object \n",
      " 12  ShipPostalCode  811 non-null    object \n",
      " 13  ShipCountry     830 non-null    object \n",
      "dtypes: float64(1), int64(3), object(10)\n",
      "memory usage: 90.9+ KB\n"
     ]
    }
   ],
   "source": [
    "data.info()"
   ]
  },
  {
   "cell_type": "code",
   "execution_count": 34,
   "id": "cdf1c184-066e-44e5-9932-e2612c6af9b3",
   "metadata": {
    "tags": []
   },
   "outputs": [
    {
     "data": {
      "text/plain": [
       "(830, 14)"
      ]
     },
     "execution_count": 34,
     "metadata": {},
     "output_type": "execute_result"
    }
   ],
   "source": [
    "data.shape"
   ]
  },
  {
   "cell_type": "code",
   "execution_count": 53,
   "id": "6c2f0a75-d8dc-480b-b35a-53936b987adf",
   "metadata": {
    "tags": []
   },
   "outputs": [
    {
     "data": {
      "text/html": [
       "<div>\n",
       "<style scoped>\n",
       "    .dataframe tbody tr th:only-of-type {\n",
       "        vertical-align: middle;\n",
       "    }\n",
       "\n",
       "    .dataframe tbody tr th {\n",
       "        vertical-align: top;\n",
       "    }\n",
       "\n",
       "    .dataframe thead th {\n",
       "        text-align: right;\n",
       "    }\n",
       "</style>\n",
       "<table border=\"1\" class=\"dataframe\">\n",
       "  <thead>\n",
       "    <tr style=\"text-align: right;\">\n",
       "      <th></th>\n",
       "      <th>OrderID</th>\n",
       "      <th>CustomerID</th>\n",
       "      <th>EmployeeID</th>\n",
       "      <th>OrderDate</th>\n",
       "      <th>RequiredDate</th>\n",
       "      <th>ShippedDate</th>\n",
       "      <th>ShipVia</th>\n",
       "      <th>Freight</th>\n",
       "      <th>ShipName</th>\n",
       "      <th>ShipAddress</th>\n",
       "      <th>ShipCity</th>\n",
       "      <th>ShipRegion</th>\n",
       "      <th>ShipPostalCode</th>\n",
       "      <th>ShipCountry</th>\n",
       "    </tr>\n",
       "  </thead>\n",
       "  <tbody>\n",
       "    <tr>\n",
       "      <th>0</th>\n",
       "      <td>10248</td>\n",
       "      <td>VINET</td>\n",
       "      <td>5</td>\n",
       "      <td>2016-07-04</td>\n",
       "      <td>2016-08-01</td>\n",
       "      <td>2016-07-16</td>\n",
       "      <td>3</td>\n",
       "      <td>32.38</td>\n",
       "      <td>Vins et alcools Chevalier</td>\n",
       "      <td>59 rue de l-Abbaye</td>\n",
       "      <td>Reims</td>\n",
       "      <td>Western Europe</td>\n",
       "      <td>51100</td>\n",
       "      <td>France</td>\n",
       "    </tr>\n",
       "    <tr>\n",
       "      <th>1</th>\n",
       "      <td>10249</td>\n",
       "      <td>TOMSP</td>\n",
       "      <td>6</td>\n",
       "      <td>2016-07-05</td>\n",
       "      <td>2016-08-16</td>\n",
       "      <td>2016-07-10</td>\n",
       "      <td>1</td>\n",
       "      <td>11.61</td>\n",
       "      <td>Toms Spezialitäten</td>\n",
       "      <td>Luisenstr. 48</td>\n",
       "      <td>Münster</td>\n",
       "      <td>Western Europe</td>\n",
       "      <td>44087</td>\n",
       "      <td>Germany</td>\n",
       "    </tr>\n",
       "    <tr>\n",
       "      <th>2</th>\n",
       "      <td>10250</td>\n",
       "      <td>HANAR</td>\n",
       "      <td>4</td>\n",
       "      <td>2016-07-08</td>\n",
       "      <td>2016-08-05</td>\n",
       "      <td>2016-07-12</td>\n",
       "      <td>2</td>\n",
       "      <td>65.83</td>\n",
       "      <td>Hanari Carnes</td>\n",
       "      <td>Rua do Paço, 67</td>\n",
       "      <td>Rio de Janeiro</td>\n",
       "      <td>South America</td>\n",
       "      <td>05454-876</td>\n",
       "      <td>Brazil</td>\n",
       "    </tr>\n",
       "    <tr>\n",
       "      <th>3</th>\n",
       "      <td>10251</td>\n",
       "      <td>VICTE</td>\n",
       "      <td>3</td>\n",
       "      <td>2016-07-08</td>\n",
       "      <td>2016-08-05</td>\n",
       "      <td>2016-07-15</td>\n",
       "      <td>1</td>\n",
       "      <td>41.34</td>\n",
       "      <td>Victuailles en stock</td>\n",
       "      <td>2, rue du Commerce</td>\n",
       "      <td>Lyon</td>\n",
       "      <td>Western Europe</td>\n",
       "      <td>69004</td>\n",
       "      <td>France</td>\n",
       "    </tr>\n",
       "  </tbody>\n",
       "</table>\n",
       "</div>"
      ],
      "text/plain": [
       "   OrderID CustomerID  EmployeeID   OrderDate RequiredDate ShippedDate  \\\n",
       "0    10248      VINET           5  2016-07-04   2016-08-01  2016-07-16   \n",
       "1    10249      TOMSP           6  2016-07-05   2016-08-16  2016-07-10   \n",
       "2    10250      HANAR           4  2016-07-08   2016-08-05  2016-07-12   \n",
       "3    10251      VICTE           3  2016-07-08   2016-08-05  2016-07-15   \n",
       "\n",
       "   ShipVia  Freight                   ShipName         ShipAddress  \\\n",
       "0        3    32.38  Vins et alcools Chevalier  59 rue de l-Abbaye   \n",
       "1        1    11.61         Toms Spezialitäten       Luisenstr. 48   \n",
       "2        2    65.83              Hanari Carnes     Rua do Paço, 67   \n",
       "3        1    41.34       Victuailles en stock  2, rue du Commerce   \n",
       "\n",
       "         ShipCity      ShipRegion ShipPostalCode ShipCountry  \n",
       "0           Reims  Western Europe          51100      France  \n",
       "1         Münster  Western Europe          44087     Germany  \n",
       "2  Rio de Janeiro   South America      05454-876      Brazil  \n",
       "3            Lyon  Western Europe          69004      France  "
      ]
     },
     "execution_count": 53,
     "metadata": {},
     "output_type": "execute_result"
    }
   ],
   "source": [
    "data.head(4)"
   ]
  },
  {
   "cell_type": "code",
   "execution_count": 39,
   "id": "3586e0f4-b13e-4504-be7f-64b50b81683a",
   "metadata": {
    "tags": []
   },
   "outputs": [
    {
     "data": {
      "text/plain": [
       "'TOMSP'"
      ]
     },
     "execution_count": 39,
     "metadata": {},
     "output_type": "execute_result"
    }
   ],
   "source": [
    "data.loc[1, 'CustomerID']"
   ]
  },
  {
   "cell_type": "code",
   "execution_count": 45,
   "id": "d9a49481-b62c-4333-a634-7a7d080c1213",
   "metadata": {
    "tags": []
   },
   "outputs": [],
   "source": [
    "temp = data.loc[1, ['OrderID', 'CustomerID']]"
   ]
  },
  {
   "cell_type": "code",
   "execution_count": 49,
   "id": "850b1ef1-77a8-4130-8b6f-e2d0e4df8382",
   "metadata": {
    "tags": []
   },
   "outputs": [
    {
     "data": {
      "text/plain": [
       "10249"
      ]
     },
     "execution_count": 49,
     "metadata": {},
     "output_type": "execute_result"
    }
   ],
   "source": [
    "temp.loc['OrderID']"
   ]
  },
  {
   "cell_type": "code",
   "execution_count": 59,
   "id": "7d4cafd7-7dcf-4556-813d-582564c17c19",
   "metadata": {
    "tags": []
   },
   "outputs": [
    {
     "data": {
      "text/plain": [
       "0    Western Europe\n",
       "1    Western Europe\n",
       "2     South America\n",
       "3    Western Europe\n",
       "4    Western Europe\n",
       "Name: ShipRegion, dtype: object"
      ]
     },
     "execution_count": 59,
     "metadata": {},
     "output_type": "execute_result"
    }
   ],
   "source": [
    "data['ShipRegion'].head()"
   ]
  },
  {
   "cell_type": "code",
   "execution_count": 68,
   "id": "bb701ccc-1a15-41ae-b341-b440d5493b13",
   "metadata": {
    "tags": []
   },
   "outputs": [
    {
     "data": {
      "text/html": [
       "<div>\n",
       "<style scoped>\n",
       "    .dataframe tbody tr th:only-of-type {\n",
       "        vertical-align: middle;\n",
       "    }\n",
       "\n",
       "    .dataframe tbody tr th {\n",
       "        vertical-align: top;\n",
       "    }\n",
       "\n",
       "    .dataframe thead th {\n",
       "        text-align: right;\n",
       "    }\n",
       "</style>\n",
       "<table border=\"1\" class=\"dataframe\">\n",
       "  <thead>\n",
       "    <tr style=\"text-align: right;\">\n",
       "      <th></th>\n",
       "      <th>OrderID</th>\n",
       "      <th>CustomerID</th>\n",
       "      <th>EmployeeID</th>\n",
       "      <th>OrderDate</th>\n",
       "      <th>RequiredDate</th>\n",
       "      <th>ShippedDate</th>\n",
       "      <th>ShipVia</th>\n",
       "      <th>Freight</th>\n",
       "      <th>ShipName</th>\n",
       "      <th>ShipAddress</th>\n",
       "      <th>ShipCity</th>\n",
       "      <th>ShipRegion</th>\n",
       "      <th>ShipPostalCode</th>\n",
       "      <th>ShipCountry</th>\n",
       "    </tr>\n",
       "  </thead>\n",
       "  <tbody>\n",
       "    <tr>\n",
       "      <th>2</th>\n",
       "      <td>10250</td>\n",
       "      <td>HANAR</td>\n",
       "      <td>4</td>\n",
       "      <td>2016-07-08</td>\n",
       "      <td>2016-08-05</td>\n",
       "      <td>2016-07-12</td>\n",
       "      <td>2</td>\n",
       "      <td>65.83</td>\n",
       "      <td>Hanari Carnes</td>\n",
       "      <td>Rua do Paço, 67</td>\n",
       "      <td>Rio de Janeiro</td>\n",
       "      <td>South America</td>\n",
       "      <td>05454-876</td>\n",
       "      <td>Brazil</td>\n",
       "    </tr>\n",
       "    <tr>\n",
       "      <th>5</th>\n",
       "      <td>10253</td>\n",
       "      <td>HANAR</td>\n",
       "      <td>3</td>\n",
       "      <td>2016-07-10</td>\n",
       "      <td>2016-07-24</td>\n",
       "      <td>2016-07-16</td>\n",
       "      <td>2</td>\n",
       "      <td>58.17</td>\n",
       "      <td>Hanari Carnes</td>\n",
       "      <td>Rua do Paço, 67</td>\n",
       "      <td>Rio de Janeiro</td>\n",
       "      <td>South America</td>\n",
       "      <td>05454-876</td>\n",
       "      <td>Brazil</td>\n",
       "    </tr>\n",
       "    <tr>\n",
       "      <th>8</th>\n",
       "      <td>10256</td>\n",
       "      <td>WELLI</td>\n",
       "      <td>3</td>\n",
       "      <td>2016-07-15</td>\n",
       "      <td>2016-08-12</td>\n",
       "      <td>2016-07-17</td>\n",
       "      <td>2</td>\n",
       "      <td>13.97</td>\n",
       "      <td>Wellington Importadora</td>\n",
       "      <td>Rua do Mercado, 12</td>\n",
       "      <td>Resende</td>\n",
       "      <td>South America</td>\n",
       "      <td>08737-363</td>\n",
       "      <td>Brazil</td>\n",
       "    </tr>\n",
       "  </tbody>\n",
       "</table>\n",
       "</div>"
      ],
      "text/plain": [
       "   OrderID CustomerID  EmployeeID   OrderDate RequiredDate ShippedDate  \\\n",
       "2    10250      HANAR           4  2016-07-08   2016-08-05  2016-07-12   \n",
       "5    10253      HANAR           3  2016-07-10   2016-07-24  2016-07-16   \n",
       "8    10256      WELLI           3  2016-07-15   2016-08-12  2016-07-17   \n",
       "\n",
       "   ShipVia  Freight                ShipName         ShipAddress  \\\n",
       "2        2    65.83           Hanari Carnes     Rua do Paço, 67   \n",
       "5        2    58.17           Hanari Carnes     Rua do Paço, 67   \n",
       "8        2    13.97  Wellington Importadora  Rua do Mercado, 12   \n",
       "\n",
       "         ShipCity     ShipRegion ShipPostalCode ShipCountry  \n",
       "2  Rio de Janeiro  South America      05454-876      Brazil  \n",
       "5  Rio de Janeiro  South America      05454-876      Brazil  \n",
       "8         Resende  South America      08737-363      Brazil  "
      ]
     },
     "execution_count": 68,
     "metadata": {},
     "output_type": "execute_result"
    }
   ],
   "source": [
    "mask = (data['ShipRegion'] == 'South America')\n",
    "data[mask].head(3)"
   ]
  },
  {
   "cell_type": "code",
   "execution_count": 72,
   "id": "69776458-82ba-41d8-9d66-1602c6491d24",
   "metadata": {
    "tags": []
   },
   "outputs": [],
   "source": [
    "ship_region_mask = (data['ShipRegion'] == 'South America')\n",
    "ship_via_mask = (data['ShipVia'] == 3)\n",
    "combined_mask = ship_region_mask & ship_via_mask"
   ]
  },
  {
   "cell_type": "code",
   "execution_count": 80,
   "id": "63c84adb-bd0b-4605-b3d1-e4d1b7415ef3",
   "metadata": {
    "tags": []
   },
   "outputs": [
    {
     "data": {
      "text/plain": [
       "<Axes: ylabel='Frequency'>"
      ]
     },
     "execution_count": 80,
     "metadata": {},
     "output_type": "execute_result"
    },
    {
     "data": {
      "image/png": "[encoded data removed]",
      "text/plain": [
       "<Figure size 640x480 with 1 Axes>"
      ]
     },
     "metadata": {},
     "output_type": "display_data"
    }
   ],
   "source": [
    "data.loc[combined_mask, 'Freight'].plot(kind='hist', bins=10, edgecolor='k')"
   ]
  },
  {
   "cell_type": "code",
   "execution_count": null,
   "id": "7da01f3f-76ed-42b9-8162-7b70f9516565",
   "metadata": {},
   "outputs": [],
   "source": []
  }
 ],
 "metadata": {
  "kernelspec": {
   "display_name": "Python 3 (ipykernel)",
   "language": "python",
   "name": "python3"
  },
  "language_info": {
   "codemirror_mode": {
    "name": "ipython",
    "version": 3
   },
   "file_extension": ".py",
   "mimetype": "text/x-python",
   "name": "python",
   "nbconvert_exporter": "python",
   "pygments_lexer": "ipython3",
   "version": "3.11.4"
  }
 },
 "nbformat": 4,
 "nbformat_minor": 5
}
