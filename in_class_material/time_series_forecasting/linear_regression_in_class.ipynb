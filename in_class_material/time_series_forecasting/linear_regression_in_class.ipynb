{
 "cells": [
  {
   "cell_type": "markdown",
   "id": "f5a1de6c-3940-4c00-9345-ebc051f33e99",
   "metadata": {},
   "source": [
    "Import libraries"
   ]
  },
  {
   "cell_type": "code",
   "execution_count": null,
   "id": "dde6e267-2112-4c57-89fe-0355395cffb0",
   "metadata": {
    "tags": []
   },
   "outputs": [],
   "source": [
    "import matplotlib.pyplot as plt\n",
    "import pandas as pd\n",
    "import seaborn as sns"
   ]
  },
  {
   "cell_type": "markdown",
   "id": "050140c4-9267-4259-bea9-ac782e2a4fc9",
   "metadata": {},
   "source": [
    "Read in `Miles_Traveled` dataset and print `dtypes`."
   ]
  },
  {
   "cell_type": "code",
   "execution_count": null,
   "id": "a013f9ac-edad-46f5-9746-8ba1c19118f0",
   "metadata": {
    "tags": []
   },
   "outputs": [],
   "source": [
    "miles_traveled = pd.read_csv('data/Miles_Traveled.csv')\n",
    "miles_traveled.dtypes"
   ]
  },
  {
   "cell_type": "markdown",
   "id": "20346935-8622-45ef-9845-c4fe41eccb05",
   "metadata": {},
   "source": [
    "Rename columns to simpler names and convert `date` column (renamed from `DATE`) to `datetime`."
   ]
  },
  {
   "cell_type": "code",
   "execution_count": null,
   "id": "f28a71bb-b07e-419a-a239-76299bd23016",
   "metadata": {
    "tags": []
   },
   "outputs": [],
   "source": [
    "miles_traveled.columns = ['date', 'miles']\n",
    "miles_traveled['date'] = pd.to_datetime(miles_traveled['date'])"
   ]
  },
  {
   "cell_type": "markdown",
   "id": "c969a832-6900-4b44-8485-792cd0ed2020",
   "metadata": {},
   "source": [
    "The following code block generates a simple line plot showing the value of the `miles` column as the `date` increases. Note that there is an increasing trend and there seems to be some strong seasonality during each year."
   ]
  },
  {
   "cell_type": "code",
   "execution_count": null,
   "id": "a40ec065-d8ac-43ce-9bb5-dc3081e047c9",
   "metadata": {
    "tags": []
   },
   "outputs": [],
   "source": [
    "fig, ax = plt.subplots(1, 1, figsize=(10, 4))\n",
    "\n",
    "sns.lineplot(\n",
    "    data=miles_traveled,\n",
    "    x='date',\n",
    "    y='miles',\n",
    "    ax=ax,\n",
    ")\n",
    "ax.spines[['right', 'top']].set_visible(False)\n",
    "\n",
    "plt.show()"
   ]
  },
  {
   "cell_type": "markdown",
   "id": "924973e3-ac19-40a6-a88f-6387bd18ed18",
   "metadata": {},
   "source": [
    "We will use linear regression to generate a predictive model for the data. From https://en.wikipedia.org/wiki/Linear_regression:\n",
    "\n",
    "<div class=\"alert alert-block alert-info\">\n",
    "<b>Definition:</b> In statistics, linear regression is a linear approach for modelling the relationship between a scalar response and one or more explanatory variables (also known as dependent and independent variables). The case of one explanatory variable is called simple linear regression; for more than one, the process is called multiple linear regression.\n",
    "</div>\n",
    "\n",
    "<div class=\"alert alert-block alert-info\">\n",
    "<b>Formulation:</b> Given a data set $\\{y_{i},\\,x_{i1},\\ldots ,x_{ip}\\}_{i=1}^{n}$ of $n$ statistical units, a linear regression model assumes that the relationship between the dependent variable $y$ and the vector of regressors $x$ is linear. This relationship is modeled through a disturbance term or error variable $\\varepsilon$ — an unobserved random variable that adds *noise* to the linear relationship between the dependent variable and regressors. Thus the model takes the form ${\\displaystyle y_{i}=\\beta _{0}+\\beta _{1}x_{i1}+\\cdots +\\beta _{p}x_{ip}+\\varepsilon_{i}, \\forall i\\in \\{1,\\ldots ,n\\}}$\n",
    "</div>\n",
    "\n",
    "**Note: In the above equation, $y$ is referred to as the dependent variable and the $x$'s as the independent variables**\n",
    "\n",
    "We will start simple and only add a `period` value to represent time."
   ]
  },
  {
   "cell_type": "code",
   "execution_count": null,
   "id": "c8130a67-1a40-4e31-90a8-3feb608a2140",
   "metadata": {
    "tags": []
   },
   "outputs": [],
   "source": [
    "miles_traveled = pd.read_csv('data/Miles_Traveled.csv')\n",
    "miles_traveled.columns = ['date', 'miles']\n",
    "miles_traveled['date'] = pd.to_datetime(miles_traveled['date'])\n",
    "\n",
    "miles_traveled = miles_traveled.reset_index()\n",
    "miles_traveled = miles_traveled.rename(columns={'index': 'period'})\n",
    "miles_traveled.head()"
   ]
  },
  {
   "cell_type": "markdown",
   "id": "7de63032-a31d-4adc-a62a-00332b8cfbb0",
   "metadata": {},
   "source": [
    "The following code block imports the formula API from `statsmodels`. This is the simplest library I have found for conducting a linear regression in python. "
   ]
  },
  {
   "cell_type": "code",
   "execution_count": null,
   "id": "2bcfda08-7093-4161-90f2-83c6ff16a2d9",
   "metadata": {
    "tags": []
   },
   "outputs": [],
   "source": [
    "import statsmodels.formula.api as smf"
   ]
  },
  {
   "cell_type": "markdown",
   "id": "f02254b9-04a6-462c-a537-4e321da9c1e2",
   "metadata": {},
   "source": [
    "The following code block uses the `ols` function to fit the regression model. `ols` stands for **O**rdinary **L**east **S**quares."
   ]
  },
  {
   "cell_type": "code",
   "execution_count": null,
   "id": "7081f2cd-fa16-4e50-a01b-5119327cd326",
   "metadata": {
    "tags": []
   },
   "outputs": [],
   "source": [
    "formula = 'miles ~ period'\n",
    "\n",
    "reg_period = smf.ols(formula, data=miles_traveled).fit()\n",
    "reg_period.summary()"
   ]
  },
  {
   "cell_type": "markdown",
   "id": "b2e6276f-e471-4b66-9165-d41772b35479",
   "metadata": {},
   "source": [
    "The following code block uses the model to generate a prediction for the miles traveled during each period."
   ]
  },
  {
   "cell_type": "code",
   "execution_count": null,
   "id": "505defe9-9953-422d-b1ad-1f5eb51cdc8d",
   "metadata": {
    "tags": []
   },
   "outputs": [],
   "source": [
    "miles_traveled['ols_prediction_period'] = reg_period.predict(miles_traveled)\n",
    "miles_traveled.head()"
   ]
  },
  {
   "cell_type": "markdown",
   "id": "53e6fbc2-a3fc-44c3-9608-62ef901047f7",
   "metadata": {},
   "source": [
    "The following code block plots the prediction and the original data. **Based on the visualization, are there any issues with the model?**"
   ]
  },
  {
   "cell_type": "code",
   "execution_count": null,
   "id": "7b57af56-598f-474e-ab5c-1d6c1f0d6f42",
   "metadata": {
    "tags": []
   },
   "outputs": [],
   "source": [
    "fig, ax = plt.subplots(1, 1, figsize=(10, 4))\n",
    "\n",
    "sns.lineplot(\n",
    "    data=miles_traveled,\n",
    "    x='date',\n",
    "    y='miles',\n",
    "    ax=ax,\n",
    "    label='Data',\n",
    ")\n",
    "\n",
    "sns.lineplot(\n",
    "    data=miles_traveled,\n",
    "    x='date',\n",
    "    y='ols_prediction_period',\n",
    "    ax=ax,\n",
    "    label='Prediction (Period)'\n",
    ")\n",
    "\n",
    "ax.spines[['right', 'top']].set_visible(False)\n",
    "\n",
    "plt.show()"
   ]
  },
  {
   "cell_type": "markdown",
   "id": "c8080835-9cc7-4c00-b39c-17e5eb1b056c",
   "metadata": {},
   "source": [
    "Let's see what happens if we refit the model using the year and month of travel, with the month represented as an integer. The following code block prepares the data."
   ]
  },
  {
   "cell_type": "code",
   "execution_count": null,
   "id": "92a53a06-27b3-4ce3-8edc-f17cd8f20f9a",
   "metadata": {
    "tags": []
   },
   "outputs": [],
   "source": [
    "miles_traveled['year'] = miles_traveled['date'].dt.year\n",
    "miles_traveled['month_int'] = miles_traveled['date'].dt.month\n",
    "miles_traveled.head()"
   ]
  },
  {
   "cell_type": "markdown",
   "id": "6dc11c01-d258-4fd2-9be0-03d5a49e9029",
   "metadata": {},
   "source": [
    "The following code block fits the regression model. **Note that the `R-squared` values increases. What does that mean?**"
   ]
  },
  {
   "cell_type": "code",
   "execution_count": null,
   "id": "75c61921-c82c-4844-a272-73f3665b8483",
   "metadata": {
    "tags": []
   },
   "outputs": [],
   "source": [
    "formula = 'miles ~ year + month_int'\n",
    "\n",
    "reg_year_month_int = smf.ols(formula, data=miles_traveled).fit()\n",
    "reg_year_month_int.summary()"
   ]
  },
  {
   "cell_type": "markdown",
   "id": "c956141e-aae8-40ff-827f-e1a0ae3cba94",
   "metadata": {},
   "source": [
    "The following code block generates the prediction."
   ]
  },
  {
   "cell_type": "code",
   "execution_count": null,
   "id": "cb3d61ff-4c1b-4559-a9e4-834726dbcb4a",
   "metadata": {
    "tags": []
   },
   "outputs": [],
   "source": [
    "miles_traveled['ols_prediction_year_month_int'] = reg_year_month_int.predict(miles_traveled)\n",
    "miles_traveled.head()"
   ]
  },
  {
   "cell_type": "markdown",
   "id": "dde6b593-4e65-40ef-bdbe-a9461624cdf1",
   "metadata": {},
   "source": [
    "The following code block plots the prediction and the original data. **Based on the visualization, does the new model fit better?**"
   ]
  },
  {
   "cell_type": "code",
   "execution_count": null,
   "id": "6d236748-9953-4147-abfd-82704bfccb41",
   "metadata": {
    "tags": []
   },
   "outputs": [],
   "source": [
    "fig, ax = plt.subplots(1, 1, figsize=(10, 4))\n",
    "\n",
    "sns.lineplot(\n",
    "    data=miles_traveled,\n",
    "    x='date',\n",
    "    y='miles',\n",
    "    ax=ax,\n",
    "    label='Data',\n",
    ")\n",
    "\n",
    "sns.lineplot(\n",
    "    data=miles_traveled,\n",
    "    x='date',\n",
    "    y='ols_prediction_year_month_int',\n",
    "    ax=ax,\n",
    "    label='Prediction (Year/Month Int)'\n",
    ")\n",
    "\n",
    "ax.spines[['right', 'top']].set_visible(False)\n",
    "\n",
    "plt.show()"
   ]
  },
  {
   "cell_type": "markdown",
   "id": "20ab3c3a-f786-43a0-ba37-2c8c6a4e986f",
   "metadata": {},
   "source": [
    "Let's take a closer look at the data until 1/1/1975. **What is the model doing as the month changes? Why do you think it is doing this?**"
   ]
  },
  {
   "cell_type": "code",
   "execution_count": null,
   "id": "14a34ca4-0767-40ef-bdc4-a5f1b9fb461c",
   "metadata": {
    "tags": []
   },
   "outputs": [],
   "source": [
    "fig, ax = plt.subplots(1, 1, figsize=(10, 4))\n",
    "\n",
    "sns.lineplot(\n",
    "    data=miles_traveled[miles_traveled['date'] < '1/1/1975'],\n",
    "    x='date',\n",
    "    y='miles',\n",
    "    ax=ax,\n",
    "    label='Data',\n",
    ")\n",
    "\n",
    "sns.lineplot(\n",
    "    data=miles_traveled[miles_traveled['date'] < '1/1/1975'],\n",
    "    x='date',\n",
    "    y='ols_prediction_year_month_int',\n",
    "    ax=ax,\n",
    "    label='Prediction (Year/Month Int)'\n",
    ")\n",
    "\n",
    "ax.spines[['right', 'top']].set_visible(False)\n",
    "\n",
    "plt.show()"
   ]
  },
  {
   "cell_type": "markdown",
   "id": "a34a0a6b-a674-4ae6-bb1d-cd58b80feac2",
   "metadata": {},
   "source": [
    "Let's now see what happens if we use the name of the month instead of an integer representation."
   ]
  },
  {
   "cell_type": "code",
   "execution_count": null,
   "id": "72c3e9af-b6f8-47ca-93cf-c86f8fb41158",
   "metadata": {
    "tags": []
   },
   "outputs": [],
   "source": [
    "miles_traveled['month_name'] = miles_traveled['date'].dt.month_name()\n",
    "miles_traveled.head()"
   ]
  },
  {
   "cell_type": "markdown",
   "id": "65829132-53f9-42dd-875f-4018561b409e",
   "metadata": {},
   "source": [
    "The following code block fits the model and prints the summary. Note that we get a coefficient for each month."
   ]
  },
  {
   "cell_type": "code",
   "execution_count": null,
   "id": "fe2fe0a2-ec18-4f6c-ae6b-70ba0e2029fa",
   "metadata": {
    "tags": []
   },
   "outputs": [],
   "source": [
    "formula = 'miles ~ year + month_name'\n",
    "\n",
    "reg_year_month_name = smf.ols(formula, data=miles_traveled).fit()\n",
    "reg_year_month_name.summary()"
   ]
  },
  {
   "cell_type": "markdown",
   "id": "5f2b201f-8b39-43c4-ae48-2f9569f0f4d4",
   "metadata": {},
   "source": [
    "The following code block generates predictions using the revised model."
   ]
  },
  {
   "cell_type": "code",
   "execution_count": null,
   "id": "57c867a8-4636-49fe-a968-28137667ca40",
   "metadata": {
    "tags": []
   },
   "outputs": [],
   "source": [
    "miles_traveled['ols_prediction_year_month_name'] = reg_year_month_name.predict(miles_traveled)\n",
    "miles_traveled.head()"
   ]
  },
  {
   "cell_type": "markdown",
   "id": "446ad3b2-adab-4b85-9ccc-87d19effff9c",
   "metadata": {},
   "source": [
    "The following code block plots the predictions."
   ]
  },
  {
   "cell_type": "code",
   "execution_count": null,
   "id": "25f48251-3154-44c3-98a3-495d32f664f5",
   "metadata": {
    "tags": []
   },
   "outputs": [],
   "source": [
    "fig, ax = plt.subplots(1, 1, figsize=(10, 4))\n",
    "\n",
    "sns.lineplot(\n",
    "    data=miles_traveled,\n",
    "    x='date',\n",
    "    y='miles',\n",
    "    ax=ax,\n",
    "    label='Data',\n",
    ")\n",
    "\n",
    "sns.lineplot(\n",
    "    data=miles_traveled,\n",
    "    x='date',\n",
    "    y='ols_prediction_year_month_name',\n",
    "    ax=ax,\n",
    "    label='Prediction (Year/Month Name)'\n",
    ")\n",
    "\n",
    "ax.spines[['right', 'top']].set_visible(False)\n",
    "\n",
    "plt.show()"
   ]
  },
  {
   "cell_type": "markdown",
   "id": "542200e0-93eb-4370-9da0-92132788c07e",
   "metadata": {},
   "source": [
    "The zoomed in version is plotted below."
   ]
  },
  {
   "cell_type": "code",
   "execution_count": null,
   "id": "36cada3d-db07-4d3a-b58c-fd9a3042353e",
   "metadata": {
    "tags": []
   },
   "outputs": [],
   "source": [
    "fig, ax = plt.subplots(1, 1, figsize=(10, 4))\n",
    "\n",
    "sns.lineplot(\n",
    "    data=miles_traveled[miles_traveled['date'] < '1/1/1975'],\n",
    "    x='date',\n",
    "    y='miles',\n",
    "    ax=ax,\n",
    "    label='Data',\n",
    ")\n",
    "\n",
    "sns.lineplot(\n",
    "    data=miles_traveled[miles_traveled['date'] < '1/1/1975'],\n",
    "    x='date',\n",
    "    y='ols_prediction_year_month_name',\n",
    "    ax=ax,\n",
    "    label='Prediction (Year/Month Name)'\n",
    ")\n",
    "\n",
    "ax.spines[['right', 'top']].set_visible(False)\n",
    "\n",
    "plt.show()"
   ]
  },
  {
   "cell_type": "markdown",
   "id": "c3c7254a-5797-48bc-8561-2dbb9a5ccd99",
   "metadata": {},
   "source": [
    "## Homework\n",
    "\n",
    "Conduct a linear regression for the `BeerWineLiqour.csv` data and:\n",
    "1. Generate a plot the shows the fitted model in comparison to the original data,\n",
    "2. Describe how well the model explains the data, and \n",
    "3. State the months with the smallest and largest impacts on sales."
   ]
  }
 ],
 "metadata": {
  "kernelspec": {
   "display_name": "Python 3 (ipykernel)",
   "language": "python",
   "name": "python3"
  },
  "language_info": {
   "codemirror_mode": {
    "name": "ipython",
    "version": 3
   },
   "file_extension": ".py",
   "mimetype": "text/x-python",
   "name": "python",
   "nbconvert_exporter": "python",
   "pygments_lexer": "ipython3",
   "version": "3.11.5"
  }
 },
 "nbformat": 4,
 "nbformat_minor": 5
}
